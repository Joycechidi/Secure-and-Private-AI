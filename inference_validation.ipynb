{
  "nbformat": 4,
  "nbformat_minor": 0,
  "metadata": {
    "colab": {
      "name": "inference_validation.ipynb",
      "version": "0.3.2",
      "provenance": [],
      "collapsed_sections": [],
      "include_colab_link": true
    },
    "kernelspec": {
      "name": "python3",
      "display_name": "Python 3"
    },
    "accelerator": "GPU"
  },
  "cells": [
    {
      "cell_type": "markdown",
      "metadata": {
        "id": "view-in-github",
        "colab_type": "text"
      },
      "source": [
        "<a href=\"https://colab.research.google.com/github/Joycechidi/Secure-and-Private-AI/blob/master/inference_validation.ipynb\" target=\"_parent\"><img src=\"https://colab.research.google.com/assets/colab-badge.svg\" alt=\"Open In Colab\"/></a>"
      ]
    },
    {
      "cell_type": "markdown",
      "metadata": {
        "id": "R4YUu-NqFuL5",
        "colab_type": "text"
      },
      "source": [
        "Exercise: Implement the validation loop below and print out the total accuracy after the loop.\n",
        "Try to get accuracy of above 80%"
      ]
    },
    {
      "cell_type": "code",
      "metadata": {
        "id": "uuDpOtTfm6gv",
        "colab_type": "code",
        "outputId": "ed27122d-10c4-41b1-ef84-6dfb55aaba6e",
        "colab": {
          "base_uri": "https://localhost:8080/",
          "height": 309
        }
      },
      "source": [
        "!wget https://github.com/udacity/deep-learning-v2-pytorch/raw/master/intro-to-pytorch/helper.py"
      ],
      "execution_count": 0,
      "outputs": [
        {
          "output_type": "stream",
          "text": [
            "--2019-06-15 12:02:28--  https://github.com/udacity/deep-learning-v2-pytorch/raw/master/intro-to-pytorch/helper.py\n",
            "Resolving github.com (github.com)... 192.30.253.113\n",
            "Connecting to github.com (github.com)|192.30.253.113|:443... connected.\n",
            "HTTP request sent, awaiting response... 302 Found\n",
            "Location: https://raw.githubusercontent.com/udacity/deep-learning-v2-pytorch/master/intro-to-pytorch/helper.py [following]\n",
            "--2019-06-15 12:02:33--  https://raw.githubusercontent.com/udacity/deep-learning-v2-pytorch/master/intro-to-pytorch/helper.py\n",
            "Resolving raw.githubusercontent.com (raw.githubusercontent.com)... 151.101.0.133, 151.101.64.133, 151.101.128.133, ...\n",
            "Connecting to raw.githubusercontent.com (raw.githubusercontent.com)|151.101.0.133|:443... connected.\n",
            "HTTP request sent, awaiting response... 200 OK\n",
            "Length: 2813 (2.7K) [text/plain]\n",
            "Saving to: ‘helper.py’\n",
            "\n",
            "helper.py           100%[===================>]   2.75K  --.-KB/s    in 0s      \n",
            "\n",
            "2019-06-15 12:02:34 (59.7 MB/s) - ‘helper.py’ saved [2813/2813]\n",
            "\n"
          ],
          "name": "stdout"
        }
      ]
    },
    {
      "cell_type": "code",
      "metadata": {
        "id": "Gm9amJy1l17_",
        "colab_type": "code",
        "colab": {}
      },
      "source": [
        "import torch\n",
        "\n",
        "from torch import optim\n",
        "from torchvision import datasets, transforms\n",
        "import helper\n",
        "\n",
        "from torch import nn, optim\n",
        "import torch.nn.functional as F\n",
        "import matplotlib.pyplot as plt"
      ],
      "execution_count": 0,
      "outputs": []
    },
    {
      "cell_type": "code",
      "metadata": {
        "id": "spHvqVL_nFI-",
        "colab_type": "code",
        "outputId": "c6d4df67-f415-4e8f-e6c3-b6f9441df3f3",
        "colab": {
          "base_uri": "https://localhost:8080/",
          "height": 275
        }
      },
      "source": [
        "from torchvision import datasets, transforms\n",
        "\n",
        "transform = transforms.Compose([transforms.ToTensor(),\n",
        "                               transforms.Normalize((0.5,), (0.5,), (0.5,)),\n",
        "                               ])\n",
        "\n",
        "# #Download and load the training data\n",
        "trainset = datasets.FashionMNIST('~/.pytorch/F_MNIST_data/', download=True, train=True, transform=transform)\n",
        "trainloader = torch.utils.data.DataLoader(trainset, batch_size=64, shuffle=True)\n",
        "\n",
        "\n",
        "#Download and load the test data\n",
        "testset = datasets.FashionMNIST('~/.pytorch/F_MNIST_data/', download=True, train=False, transform=transform)\n",
        "testloader = torch.utils.data.DataLoader(testset, batch_size=64, shuffle=True)\n"
      ],
      "execution_count": 0,
      "outputs": [
        {
          "output_type": "stream",
          "text": [
            "\r0it [00:00, ?it/s]"
          ],
          "name": "stderr"
        },
        {
          "output_type": "stream",
          "text": [
            "Downloading http://fashion-mnist.s3-website.eu-central-1.amazonaws.com/train-images-idx3-ubyte.gz to /root/.pytorch/F_MNIST_data/FashionMNIST/raw/train-images-idx3-ubyte.gz\n"
          ],
          "name": "stdout"
        },
        {
          "output_type": "stream",
          "text": [
            "26427392it [00:02, 10760827.25it/s]                             \n"
          ],
          "name": "stderr"
        },
        {
          "output_type": "stream",
          "text": [
            "Extracting /root/.pytorch/F_MNIST_data/FashionMNIST/raw/train-images-idx3-ubyte.gz\n"
          ],
          "name": "stdout"
        },
        {
          "output_type": "stream",
          "text": [
            "\r0it [00:00, ?it/s]"
          ],
          "name": "stderr"
        },
        {
          "output_type": "stream",
          "text": [
            "Downloading http://fashion-mnist.s3-website.eu-central-1.amazonaws.com/train-labels-idx1-ubyte.gz to /root/.pytorch/F_MNIST_data/FashionMNIST/raw/train-labels-idx1-ubyte.gz\n"
          ],
          "name": "stdout"
        },
        {
          "output_type": "stream",
          "text": [
            "32768it [00:00, 73496.33it/s]                            \n",
            "0it [00:00, ?it/s]"
          ],
          "name": "stderr"
        },
        {
          "output_type": "stream",
          "text": [
            "Extracting /root/.pytorch/F_MNIST_data/FashionMNIST/raw/train-labels-idx1-ubyte.gz\n",
            "Downloading http://fashion-mnist.s3-website.eu-central-1.amazonaws.com/t10k-images-idx3-ubyte.gz to /root/.pytorch/F_MNIST_data/FashionMNIST/raw/t10k-images-idx3-ubyte.gz\n"
          ],
          "name": "stdout"
        },
        {
          "output_type": "stream",
          "text": [
            "4423680it [00:01, 3031479.09it/s]                            \n",
            "0it [00:00, ?it/s]"
          ],
          "name": "stderr"
        },
        {
          "output_type": "stream",
          "text": [
            "Extracting /root/.pytorch/F_MNIST_data/FashionMNIST/raw/t10k-images-idx3-ubyte.gz\n",
            "Downloading http://fashion-mnist.s3-website.eu-central-1.amazonaws.com/t10k-labels-idx1-ubyte.gz to /root/.pytorch/F_MNIST_data/FashionMNIST/raw/t10k-labels-idx1-ubyte.gz\n"
          ],
          "name": "stdout"
        },
        {
          "output_type": "stream",
          "text": [
            "8192it [00:00, 26528.81it/s]            "
          ],
          "name": "stderr"
        },
        {
          "output_type": "stream",
          "text": [
            "Extracting /root/.pytorch/F_MNIST_data/FashionMNIST/raw/t10k-labels-idx1-ubyte.gz\n",
            "Processing...\n",
            "Done!\n"
          ],
          "name": "stdout"
        },
        {
          "output_type": "stream",
          "text": [
            "\n"
          ],
          "name": "stderr"
        }
      ]
    },
    {
      "cell_type": "code",
      "metadata": {
        "id": "TEreJeZbnFMH",
        "colab_type": "code",
        "colab": {}
      },
      "source": [
        "#Create a normal model as before"
      ],
      "execution_count": 0,
      "outputs": []
    },
    {
      "cell_type": "code",
      "metadata": {
        "id": "GA9a1g3tnFOz",
        "colab_type": "code",
        "colab": {}
      },
      "source": [
        "class Classifier(nn.Module):\n",
        "  def __init__(self):\n",
        "    super().__init__()\n",
        "    self.fc1= nn.Linear(784, 256)\n",
        "    self.fc2 = nn.Linear(256, 128)\n",
        "    self.fc3 = nn.Linear(128, 64)\n",
        "    self.fc4 = nn.Linear(64, 10)\n",
        "    \n",
        "    \n",
        "  def forward(self, x):\n",
        "    #make sure input tensor is flattened\n",
        "    x = x.view(x.shape[0], -1)\n",
        "    \n",
        "    x = F.relu(self.fc1(x))\n",
        "    x = F.relu(self.fc2(x))\n",
        "    x = F.relu(self.fc3(x))\n",
        "    x = F.log_softmax(self.fc4(x), dim=1)\n",
        "    \n",
        "    return x"
      ],
      "execution_count": 0,
      "outputs": []
    },
    {
      "cell_type": "markdown",
      "metadata": {
        "id": "vfTvgabZJqYP",
        "colab_type": "text"
      },
      "source": [
        "The goal of validation is to measure the model's performance on data that isn't part of the training set. The developer has to define the performance. Typicaly, this is just accuracy. The percentage of classes the network predicted correctly.\n",
        "\n",
        "\n",
        "First, a forward pass with one batch from the set."
      ]
    },
    {
      "cell_type": "code",
      "metadata": {
        "id": "7wc56EXknFRl",
        "colab_type": "code",
        "outputId": "99973370-3961-4540-f554-75804d2a5bde",
        "colab": {
          "base_uri": "https://localhost:8080/",
          "height": 34
        }
      },
      "source": [
        "model = Classifier()\n",
        "\n",
        "\n",
        "images, labels = next(iter(testloader))\n",
        "#Get the class probabiities\n",
        "ps = torch.exp(model(images))\n",
        "\n",
        "#Make sure the shape is appropriate, we should get 10 class probabilities for 64 examples\n",
        "print(ps.shape)"
      ],
      "execution_count": 0,
      "outputs": [
        {
          "output_type": "stream",
          "text": [
            "torch.Size([64, 10])\n"
          ],
          "name": "stdout"
        }
      ]
    },
    {
      "cell_type": "markdown",
      "metadata": {
        "id": "HatfX9EOSc_5",
        "colab_type": "text"
      },
      "source": [
        "With the probabilities, we can get the most likely class using the ps.topk method. This returns the $k$ highest values. Since we just want the most likely class, we can use ps.topk(1). This returns a tuple of the top-$k$ values and the top-$k$ indices. If the highest value is the fifth element, we'll get back 4 as the index."
      ]
    },
    {
      "cell_type": "code",
      "metadata": {
        "id": "2RTMJlyjnFUV",
        "colab_type": "code",
        "outputId": "898205b4-b610-4f7c-f775-9fa9ba678637",
        "colab": {
          "base_uri": "https://localhost:8080/",
          "height": 187
        }
      },
      "source": [
        "top_p, top_class = ps.topk(1, dim=1)\n",
        "#look at the most likely classes for the first 10 examples\n",
        "print(top_class[:10,:])"
      ],
      "execution_count": 0,
      "outputs": [
        {
          "output_type": "stream",
          "text": [
            "tensor([[9],\n",
            "        [9],\n",
            "        [9],\n",
            "        [9],\n",
            "        [9],\n",
            "        [9],\n",
            "        [9],\n",
            "        [9],\n",
            "        [9],\n",
            "        [9]])\n"
          ],
          "name": "stdout"
        }
      ]
    },
    {
      "cell_type": "markdown",
      "metadata": {
        "id": "v6j68JYLSwwv",
        "colab_type": "text"
      },
      "source": [
        "Now we can check if the predicted classes match the labels. This is simple to do by equating top_class and labels, but we have to be careful of the shapes. Here top_class is a 2D tensor with shape (64, 1) while labels is 1D with shape (64). To get the equality to work out the way we want, top_class and labels must have the same shape.\n",
        "\n",
        "If we do\n",
        "\n",
        "equals = top_class == labels\n",
        "equals will have shape (64, 64), try it yourself. What it's doing is comparing the one element in each row of top_class with each element in labels which returns 64 True/False boolean values for each row."
      ]
    },
    {
      "cell_type": "code",
      "metadata": {
        "id": "BOBUbfIPnFWv",
        "colab_type": "code",
        "colab": {}
      },
      "source": [
        "equals = top_class == labels.view(*top_class.shape)"
      ],
      "execution_count": 0,
      "outputs": []
    },
    {
      "cell_type": "markdown",
      "metadata": {
        "id": "4whk83-_Tfm8",
        "colab_type": "text"
      },
      "source": [
        "Now we need to calculate the percentage of correct predictions. equals has binary values, either 0 or 1. This means that if we just sum up all the values and divide by the number of values, we get the percentage of correct predictions. This is the same operation as taking the mean, so we can get the accuracy with a call to torch.mean. If only it was that simple. If you try torch.mean(equals), you'll get an error\n",
        "\n",
        "RuntimeError: mean is not implemented for type torch.ByteTensor\n",
        "This happens because equals has type torch.ByteTensor but torch.mean isn't implement for tensors with that type. So we'll need to convert equals to a float tensor. Note that when we take torch.mean it returns a scalar tensor, to get the actual value as a float we'll need to do accuracy.item()."
      ]
    },
    {
      "cell_type": "code",
      "metadata": {
        "id": "w_k1ZYDgnFZP",
        "colab_type": "code",
        "outputId": "8fb3e38b-b1ab-48e1-8374-d195743f16c0",
        "colab": {
          "base_uri": "https://localhost:8080/",
          "height": 34
        }
      },
      "source": [
        "accuracy = torch.mean(equals.type(torch.FloatTensor))\n",
        "print(f'Accuracy: {accuracy.item()*100}%')"
      ],
      "execution_count": 0,
      "outputs": [
        {
          "output_type": "stream",
          "text": [
            "Accuracy: 14.0625%\n"
          ],
          "name": "stdout"
        }
      ]
    },
    {
      "cell_type": "markdown",
      "metadata": {
        "id": "OwBwdy6PTvRZ",
        "colab_type": "text"
      },
      "source": [
        "The network is untrained so it's making random guesses and we should see an accuracy around 10%. Now let's train our network and include our validation pass so we can measure how well the network is performing on the test set. Since we're not updating our parameters in the validation pass, we can speed up the training by turning off gradients using torch.no_grad():"
      ]
    },
    {
      "cell_type": "code",
      "metadata": {
        "id": "gkebcmCaT5fw",
        "colab_type": "code",
        "outputId": "6c1d6347-aee6-4385-f721-b4f76193ee2d",
        "colab": {
          "base_uri": "https://localhost:8080/",
          "height": 547
        }
      },
      "source": [
        "model = Classifier()\n",
        "criterion = nn.NLLLoss()\n",
        "optimizer = optim.Adam(model.parameters(), lr=0.003)\n",
        "\n",
        "epochs = 30\n",
        "steps = 0\n",
        "\n",
        "train_losses, test_losses = [], []\n",
        "for e in range(epochs):\n",
        "    running_loss = 0\n",
        "    for images, labels in trainloader:\n",
        "        \n",
        "        optimizer.zero_grad()\n",
        "        \n",
        "        log_ps = model(images)\n",
        "        loss = criterion(log_ps, labels)\n",
        "        loss.backward()\n",
        "        optimizer.step()\n",
        "        \n",
        "        running_loss += loss.item()\n",
        "        \n",
        "    else:\n",
        "        test_loss = 0\n",
        "        accuracy = 0\n",
        "        \n",
        "                # Turn off gradients for validation, saves memory and computations\n",
        "        with torch.no_grad():\n",
        "            for images, labels in testloader:\n",
        "                log_ps = model(images)\n",
        "                test_loss += criterion(log_ps, labels)\n",
        "                \n",
        "                ps = torch.exp(log_ps)\n",
        "                top_p, top_class = ps.topk(1, dim=1)\n",
        "                equals = top_class == labels.view(*top_class.shape)\n",
        "                accuracy += torch.mean(equals.type(torch.FloatTensor))\n",
        "                \n",
        "        train_losses.append(running_loss/len(trainloader))\n",
        "        test_losses.append(test_loss/len(testloader))\n",
        "\n",
        "        print(\"Epoch: {}/{}.. \".format(e+1, epochs),\n",
        "              \"Training Loss: {:.3f}.. \".format(running_loss/len(trainloader)),\n",
        "              \"Test Loss: {:.3f}.. \".format(test_loss/len(testloader)),\n",
        "              \"Test Accuracy: {:.3f}\".format(accuracy/len(testloader)))"
      ],
      "execution_count": 0,
      "outputs": [
        {
          "output_type": "stream",
          "text": [
            "Epoch: 1/30..  Training Loss: 0.515..  Test Loss: 0.488..  Test Accuracy: 0.818\n",
            "Epoch: 2/30..  Training Loss: 0.386..  Test Loss: 0.396..  Test Accuracy: 0.854\n",
            "Epoch: 3/30..  Training Loss: 0.354..  Test Loss: 0.382..  Test Accuracy: 0.865\n",
            "Epoch: 4/30..  Training Loss: 0.332..  Test Loss: 0.392..  Test Accuracy: 0.860\n",
            "Epoch: 5/30..  Training Loss: 0.317..  Test Loss: 0.368..  Test Accuracy: 0.875\n",
            "Epoch: 6/30..  Training Loss: 0.303..  Test Loss: 0.358..  Test Accuracy: 0.873\n",
            "Epoch: 7/30..  Training Loss: 0.293..  Test Loss: 0.351..  Test Accuracy: 0.877\n",
            "Epoch: 8/30..  Training Loss: 0.282..  Test Loss: 0.380..  Test Accuracy: 0.871\n",
            "Epoch: 9/30..  Training Loss: 0.276..  Test Loss: 0.373..  Test Accuracy: 0.868\n",
            "Epoch: 10/30..  Training Loss: 0.268..  Test Loss: 0.359..  Test Accuracy: 0.873\n",
            "Epoch: 11/30..  Training Loss: 0.263..  Test Loss: 0.365..  Test Accuracy: 0.877\n",
            "Epoch: 12/30..  Training Loss: 0.256..  Test Loss: 0.350..  Test Accuracy: 0.883\n",
            "Epoch: 13/30..  Training Loss: 0.248..  Test Loss: 0.392..  Test Accuracy: 0.874\n",
            "Epoch: 14/30..  Training Loss: 0.244..  Test Loss: 0.360..  Test Accuracy: 0.881\n",
            "Epoch: 15/30..  Training Loss: 0.242..  Test Loss: 0.378..  Test Accuracy: 0.882\n",
            "Epoch: 16/30..  Training Loss: 0.235..  Test Loss: 0.355..  Test Accuracy: 0.885\n",
            "Epoch: 17/30..  Training Loss: 0.228..  Test Loss: 0.371..  Test Accuracy: 0.878\n",
            "Epoch: 18/30..  Training Loss: 0.224..  Test Loss: 0.369..  Test Accuracy: 0.878\n",
            "Epoch: 19/30..  Training Loss: 0.222..  Test Loss: 0.405..  Test Accuracy: 0.879\n",
            "Epoch: 20/30..  Training Loss: 0.220..  Test Loss: 0.407..  Test Accuracy: 0.877\n",
            "Epoch: 21/30..  Training Loss: 0.219..  Test Loss: 0.418..  Test Accuracy: 0.873\n",
            "Epoch: 22/30..  Training Loss: 0.217..  Test Loss: 0.382..  Test Accuracy: 0.877\n",
            "Epoch: 23/30..  Training Loss: 0.208..  Test Loss: 0.411..  Test Accuracy: 0.879\n",
            "Epoch: 24/30..  Training Loss: 0.207..  Test Loss: 0.386..  Test Accuracy: 0.885\n",
            "Epoch: 25/30..  Training Loss: 0.202..  Test Loss: 0.419..  Test Accuracy: 0.884\n",
            "Epoch: 26/30..  Training Loss: 0.195..  Test Loss: 0.421..  Test Accuracy: 0.887\n",
            "Epoch: 27/30..  Training Loss: 0.204..  Test Loss: 0.417..  Test Accuracy: 0.879\n",
            "Epoch: 28/30..  Training Loss: 0.195..  Test Loss: 0.423..  Test Accuracy: 0.880\n",
            "Epoch: 29/30..  Training Loss: 0.187..  Test Loss: 0.426..  Test Accuracy: 0.882\n",
            "Epoch: 30/30..  Training Loss: 0.190..  Test Loss: 0.421..  Test Accuracy: 0.886\n"
          ],
          "name": "stdout"
        }
      ]
    },
    {
      "cell_type": "code",
      "metadata": {
        "id": "YSmFYP7QUY82",
        "colab_type": "code",
        "colab": {}
      },
      "source": [
        "%matplotlib inline\n",
        "%config InlineBackend.figure_format = 'retina'\n",
        "\n",
        "import matplotlib.pyplot as plt"
      ],
      "execution_count": 0,
      "outputs": []
    },
    {
      "cell_type": "code",
      "metadata": {
        "id": "UFiNNc05Uade",
        "colab_type": "code",
        "outputId": "129da7f5-6455-4bc6-c11a-c2275efb824a",
        "colab": {
          "base_uri": "https://localhost:8080/",
          "height": 284
        }
      },
      "source": [
        "plt.plot(train_losses, label='Training loss')\n",
        "plt.plot(test_losses, label='Validation loss')\n",
        "plt.legend(frameon=False)"
      ],
      "execution_count": 0,
      "outputs": [
        {
          "output_type": "execute_result",
          "data": {
            "text/plain": [
              "<matplotlib.legend.Legend at 0x7f43f2aa4b00>"
            ]
          },
          "metadata": {
            "tags": []
          },
          "execution_count": 11
        },
        {
          "output_type": "display_data",
          "data": {
            "image/png": "[encoded data removed]",
            "text/plain": [
              "<Figure size 432x288 with 1 Axes>"
            ]
          },
          "metadata": {
            "tags": [],
            "image/png": {
              "width": 380,
              "height": 250
            }
          }
        }
      ]
    },
    {
      "cell_type": "markdown",
      "metadata": {
        "id": "qAQ7rD1kZgV5",
        "colab_type": "text"
      },
      "source": [
        "# Overfitting\n",
        "If we look at the training and validation losses as we train the network, we can see a phenomenon known as overfitting.\n",
        "\n",
        "The network learns the training set better and better, resulting in lower training losses. However, it starts having problems generalizing to data outside the training set leading to the validation loss increasing. The ultimate goal of any deep learning model is to make predictions on new data, so we should strive to get the lowest validation loss possible. One option is to use the version of the model with the lowest validation loss, here the one around 8-10 training epochs. This strategy is called early-stopping. In practice, you'd save the model frequently as you're training then later choose the model with the lowest validation loss.\n",
        "\n",
        "The most common method to reduce overfitting (outside of early-stopping) is dropout, where we randomly drop input units. This forces the network to share information between weights, increasing it's ability to generalize to new data. Adding dropout in PyTorch is straightforward using the nn.Dropout module.\n",
        "\n",
        "**Add Dropout to my model and trsin iton Fashion-MNIST again, See if you can get a lower validation loss.**"
      ]
    },
    {
      "cell_type": "code",
      "metadata": {
        "id": "OmeAkeazUamI",
        "colab_type": "code",
        "colab": {}
      },
      "source": [
        "class Classifier(nn.Module):\n",
        "    def __init__(self):\n",
        "        super().__init__()\n",
        "        self.fc1 = nn.Linear(784, 256)\n",
        "        self.fc2 = nn.Linear(256, 128)\n",
        "        self.fc3 = nn.Linear(128, 64)\n",
        "        self.fc4 = nn.Linear(64, 10)\n",
        "\n",
        "        # Dropout module with 0.2 drop probability\n",
        "        self.dropout = nn.Dropout(p=0.2)\n",
        "\n",
        "    def forward(self, x):\n",
        "        # make sure input tensor is flattened\n",
        "        x = x.view(x.shape[0], -1)\n",
        "\n",
        "        # Now with dropout\n",
        "        x = self.dropout(F.relu(self.fc1(x)))\n",
        "        x = self.dropout(F.relu(self.fc2(x)))\n",
        "        x = self.dropout(F.relu(self.fc3(x)))\n",
        "\n",
        "        # output so no dropout here\n",
        "        x = F.log_softmax(self.fc4(x), dim=1)\n",
        "\n",
        "        return x"
      ],
      "execution_count": 0,
      "outputs": []
    },
    {
      "cell_type": "code",
      "metadata": {
        "id": "bCtP5kOdUasE",
        "colab_type": "code",
        "outputId": "829be2fe-688f-41dc-ba68-222a406b3ae4",
        "colab": {
          "base_uri": "https://localhost:8080/",
          "height": 547
        }
      },
      "source": [
        "model = Classifier()\n",
        "criterion = nn.NLLLoss()\n",
        "optimizer = optim.Adam(model.parameters(), lr=0.003)\n",
        "\n",
        "epochs = 30\n",
        "steps = 0\n",
        "\n",
        "train_losses, test_losses = [], []\n",
        "for e in range(epochs):\n",
        "    running_loss = 0\n",
        "    for images, labels in trainloader:\n",
        "        \n",
        "        optimizer.zero_grad()\n",
        "        \n",
        "        log_ps = model(images)\n",
        "        loss = criterion(log_ps, labels)\n",
        "        loss.backward()\n",
        "        optimizer.step()\n",
        "        \n",
        "        running_loss += loss.item()\n",
        "        \n",
        "    else:\n",
        "        test_loss = 0\n",
        "        accuracy = 0\n",
        "        \n",
        "        # Turn off gradients for validation, saves memory and computations\n",
        "        with torch.no_grad():\n",
        "            model.eval()\n",
        "            for images, labels in testloader:\n",
        "                log_ps = model(images)\n",
        "                test_loss += criterion(log_ps, labels)\n",
        "                \n",
        "                ps = torch.exp(log_ps)\n",
        "                top_p, top_class = ps.topk(1, dim=1)\n",
        "                equals = top_class == labels.view(*top_class.shape)\n",
        "                accuracy += torch.mean(equals.type(torch.FloatTensor))\n",
        "        \n",
        "        model.train()\n",
        "        \n",
        "        train_losses.append(running_loss/len(trainloader))\n",
        "        test_losses.append(test_loss/len(testloader))\n",
        "\n",
        "        print(\"Epoch: {}/{}.. \".format(e+1, epochs),\n",
        "              \"Training Loss: {:.3f}.. \".format(train_losses[-1]),\n",
        "              \"Test Loss: {:.3f}.. \".format(test_losses[-1]),\n",
        "              \"Test Accuracy: {:.3f}\".format(accuracy/len(testloader)))"
      ],
      "execution_count": 0,
      "outputs": [
        {
          "output_type": "stream",
          "text": [
            "Epoch: 1/30..  Training Loss: 0.611..  Test Loss: 0.466..  Test Accuracy: 0.838\n",
            "Epoch: 2/30..  Training Loss: 0.487..  Test Loss: 0.432..  Test Accuracy: 0.848\n",
            "Epoch: 3/30..  Training Loss: 0.455..  Test Loss: 0.426..  Test Accuracy: 0.848\n",
            "Epoch: 4/30..  Training Loss: 0.433..  Test Loss: 0.412..  Test Accuracy: 0.852\n",
            "Epoch: 5/30..  Training Loss: 0.424..  Test Loss: 0.417..  Test Accuracy: 0.848\n",
            "Epoch: 6/30..  Training Loss: 0.417..  Test Loss: 0.409..  Test Accuracy: 0.848\n",
            "Epoch: 7/30..  Training Loss: 0.404..  Test Loss: 0.392..  Test Accuracy: 0.860\n",
            "Epoch: 8/30..  Training Loss: 0.403..  Test Loss: 0.396..  Test Accuracy: 0.863\n",
            "Epoch: 9/30..  Training Loss: 0.397..  Test Loss: 0.388..  Test Accuracy: 0.865\n",
            "Epoch: 10/30..  Training Loss: 0.392..  Test Loss: 0.405..  Test Accuracy: 0.856\n",
            "Epoch: 11/30..  Training Loss: 0.388..  Test Loss: 0.378..  Test Accuracy: 0.870\n",
            "Epoch: 12/30..  Training Loss: 0.385..  Test Loss: 0.380..  Test Accuracy: 0.870\n",
            "Epoch: 13/30..  Training Loss: 0.387..  Test Loss: 0.396..  Test Accuracy: 0.860\n",
            "Epoch: 14/30..  Training Loss: 0.374..  Test Loss: 0.380..  Test Accuracy: 0.870\n",
            "Epoch: 15/30..  Training Loss: 0.366..  Test Loss: 0.415..  Test Accuracy: 0.857\n",
            "Epoch: 16/30..  Training Loss: 0.374..  Test Loss: 0.377..  Test Accuracy: 0.868\n",
            "Epoch: 17/30..  Training Loss: 0.368..  Test Loss: 0.391..  Test Accuracy: 0.870\n",
            "Epoch: 18/30..  Training Loss: 0.363..  Test Loss: 0.381..  Test Accuracy: 0.867\n",
            "Epoch: 19/30..  Training Loss: 0.368..  Test Loss: 0.371..  Test Accuracy: 0.870\n",
            "Epoch: 20/30..  Training Loss: 0.362..  Test Loss: 0.388..  Test Accuracy: 0.868\n",
            "Epoch: 21/30..  Training Loss: 0.354..  Test Loss: 0.392..  Test Accuracy: 0.863\n",
            "Epoch: 22/30..  Training Loss: 0.355..  Test Loss: 0.383..  Test Accuracy: 0.871\n",
            "Epoch: 23/30..  Training Loss: 0.351..  Test Loss: 0.365..  Test Accuracy: 0.872\n",
            "Epoch: 24/30..  Training Loss: 0.359..  Test Loss: 0.376..  Test Accuracy: 0.872\n",
            "Epoch: 25/30..  Training Loss: 0.353..  Test Loss: 0.382..  Test Accuracy: 0.872\n",
            "Epoch: 26/30..  Training Loss: 0.351..  Test Loss: 0.389..  Test Accuracy: 0.867\n",
            "Epoch: 27/30..  Training Loss: 0.348..  Test Loss: 0.375..  Test Accuracy: 0.874\n",
            "Epoch: 28/30..  Training Loss: 0.343..  Test Loss: 0.377..  Test Accuracy: 0.867\n",
            "Epoch: 29/30..  Training Loss: 0.344..  Test Loss: 0.375..  Test Accuracy: 0.872\n",
            "Epoch: 30/30..  Training Loss: 0.344..  Test Loss: 0.380..  Test Accuracy: 0.874\n"
          ],
          "name": "stdout"
        }
      ]
    },
    {
      "cell_type": "code",
      "metadata": {
        "id": "IfzaLtGpUavP",
        "colab_type": "code",
        "colab": {}
      },
      "source": [
        "%matplotlib inline\n",
        "%config InlineBackend.figure_format = 'retina'\n",
        "\n",
        "import matplotlib.pyplot as plt"
      ],
      "execution_count": 0,
      "outputs": []
    },
    {
      "cell_type": "code",
      "metadata": {
        "id": "j8sP8SDeUayK",
        "colab_type": "code",
        "outputId": "cf01746d-933c-455a-efbf-c2cea1ea6f10",
        "colab": {
          "base_uri": "https://localhost:8080/",
          "height": 284
        }
      },
      "source": [
        "plt.plot(train_losses, label='Training loss')\n",
        "plt.plot(test_losses, label='Validation loss')\n",
        "plt.legend(frameon=False)"
      ],
      "execution_count": 0,
      "outputs": [
        {
          "output_type": "execute_result",
          "data": {
            "text/plain": [
              "<matplotlib.legend.Legend at 0x7f7358c90c18>"
            ]
          },
          "metadata": {
            "tags": []
          },
          "execution_count": 28
        },
        {
          "output_type": "display_data",
          "data": {
            "image/png": "[encoded data removed]",
            "text/plain": [
              "<Figure size 432x288 with 1 Axes>"
            ]
          },
          "metadata": {
            "tags": [],
            "image/png": {
              "width": 380,
              "height": 250
            }
          }
        }
      ]
    },
    {
      "cell_type": "markdown",
      "metadata": {
        "id": "5Ysm6yoySjtO",
        "colab_type": "text"
      },
      "source": [
        "# Inference\n",
        "Now that the model is trained, we can use it for inference. We've done this before, but now we need to remember to set the model in inference mode with model.eval(). You'll also want to turn off autograd with the torch.no_grad() context."
      ]
    },
    {
      "cell_type": "code",
      "metadata": {
        "id": "KoZ9J0hZUa1J",
        "colab_type": "code",
        "outputId": "a723468c-0ad5-4f73-f7f4-fbda8894432f",
        "colab": {
          "base_uri": "https://localhost:8080/",
          "height": 223
        }
      },
      "source": [
        "import helper\n",
        "\n",
        "#Test out the network\n",
        "                                               \n",
        "model.eval()\n",
        "\n",
        "dataiter = iter(testloader)\n",
        "images, labels = dataiter.next()\n",
        "img = images[0]\n",
        "\n",
        "#Convert 2D image to ID vector\n",
        "img = img.view(1, 784)\n",
        "\n",
        "\n",
        "#Calculate the class probabilities (softmax) for img\n",
        "\n",
        "with torch.no_grad():\n",
        "  output = model.forward(img)\n",
        "  \n",
        "  \n",
        "ps = torch.exp(output)\n",
        "\n",
        "#Plot the image and probabilities\n",
        "helper.view_classify(img.view(1, 28, 28), ps, version='Fashion')"
      ],
      "execution_count": 0,
      "outputs": [
        {
          "output_type": "display_data",
          "data": {
            "image/png": "[encoded data removed]",
            "text/plain": [
              "<Figure size 432x648 with 2 Axes>"
            ]
          },
          "metadata": {
            "tags": [],
            "image/png": {
              "width": 423,
              "height": 206
            }
          }
        }
      ]
    },
    {
      "cell_type": "code",
      "metadata": {
        "id": "6b2-mMkSUa6s",
        "colab_type": "code",
        "outputId": "c1ee877b-cf4d-4544-e161-054e49862d2a",
        "colab": {
          "base_uri": "https://localhost:8080/",
          "height": 34
        }
      },
      "source": [
        "pwd"
      ],
      "execution_count": 0,
      "outputs": [
        {
          "output_type": "execute_result",
          "data": {
            "text/plain": [
              "'/content'"
            ]
          },
          "metadata": {
            "tags": []
          },
          "execution_count": 31
        }
      ]
    },
    {
      "cell_type": "code",
      "metadata": {
        "id": "RQV97GrUUa-C",
        "colab_type": "code",
        "colab": {}
      },
      "source": [
        ""
      ],
      "execution_count": 0,
      "outputs": []
    },
    {
      "cell_type": "code",
      "metadata": {
        "id": "ZpOedEeUUbCI",
        "colab_type": "code",
        "colab": {}
      },
      "source": [
        ""
      ],
      "execution_count": 0,
      "outputs": []
    },
    {
      "cell_type": "code",
      "metadata": {
        "id": "h3kv371tUbEx",
        "colab_type": "code",
        "colab": {}
      },
      "source": [
        ""
      ],
      "execution_count": 0,
      "outputs": []
    },
    {
      "cell_type": "code",
      "metadata": {
        "id": "jE8mkTaSUbHz",
        "colab_type": "code",
        "colab": {}
      },
      "source": [
        ""
      ],
      "execution_count": 0,
      "outputs": []
    },
    {
      "cell_type": "code",
      "metadata": {
        "id": "n2w-TRxgUbKm",
        "colab_type": "code",
        "colab": {}
      },
      "source": [
        ""
      ],
      "execution_count": 0,
      "outputs": []
    },
    {
      "cell_type": "code",
      "metadata": {
        "id": "ahZRId8_Ua4O",
        "colab_type": "code",
        "colab": {}
      },
      "source": [
        ""
      ],
      "execution_count": 0,
      "outputs": []
    }
  ]
}