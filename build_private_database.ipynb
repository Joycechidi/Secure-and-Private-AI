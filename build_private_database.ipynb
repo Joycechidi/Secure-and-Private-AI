{
  "nbformat": 4,
  "nbformat_minor": 0,
  "metadata": {
    "colab": {
      "name": "build_private_database.ipynb",
      "version": "0.3.2",
      "provenance": [],
      "collapsed_sections": [],
      "include_colab_link": true
    },
    "kernelspec": {
      "name": "python3",
      "display_name": "Python 3"
    }
  },
  "cells": [
    {
      "cell_type": "markdown",
      "metadata": {
        "id": "view-in-github",
        "colab_type": "text"
      },
      "source": [
        "<a href=\"https://colab.research.google.com/github/Joycechidi/Secure-and-Private-AI/blob/master/build_private_database.ipynb\" target=\"_parent\"><img src=\"https://colab.research.google.com/assets/colab-badge.svg\" alt=\"Open In Colab\"/></a>"
      ]
    },
    {
      "cell_type": "code",
      "metadata": {
        "id": "c5v4LDYt0a9s",
        "colab_type": "code",
        "outputId": "8834451f-b172-4155-b65a-daff93a63077",
        "colab": {
          "base_uri": "https://localhost:8080/",
          "height": 34
        }
      },
      "source": [
        "!conda create -n pysyft python=3"
      ],
      "execution_count": 0,
      "outputs": [
        {
          "output_type": "stream",
          "text": [
            "/bin/bash: conda: command not found\n"
          ],
          "name": "stdout"
        }
      ]
    },
    {
      "cell_type": "code",
      "metadata": {
        "id": "H0pHqqvyvzEv",
        "colab_type": "code",
        "outputId": "c85a1ce3-2664-4a23-d463-4fa3d7f35cc1",
        "colab": {
          "base_uri": "https://localhost:8080/",
          "height": 34
        }
      },
      "source": [
        "import torch\n",
        "\n",
        "#the number of entries in out database\n",
        "num_entries = 5000\n",
        "\n",
        "db = torch.rand(num_entries) > 0.5\n",
        "db"
      ],
      "execution_count": 0,
      "outputs": [
        {
          "output_type": "execute_result",
          "data": {
            "text/plain": [
              "tensor([1, 0, 1,  ..., 1, 1, 1], dtype=torch.uint8)"
            ]
          },
          "metadata": {
            "tags": []
          },
          "execution_count": 3
        }
      ]
    },
    {
      "cell_type": "markdown",
      "metadata": {
        "id": "XKmeQLjGPruu",
        "colab_type": "text"
      },
      "source": [
        "Key to the definition of differential privacy is the ability to ask the question \"\n",
        "\"When querying a database, If I removed someone from the database, would the output\n",
        "of the query be different?\". Thus, in order to check this, we must construct\n",
        "what we term \"parallel databases\" which are simply databases with one entry removed."
      ]
    },
    {
      "cell_type": "markdown",
      "metadata": {
        "id": "grAi7k1_PtBB",
        "colab_type": "text"
      },
      "source": [
        "# Task\n",
        "\n",
        "Create a list of every parallel database to the one currently contained in the \"db\" variabl.\n",
        "Then, create a function which both:\n",
        "    1) creates the initial database (db)\n",
        "    2) creates all parallel databases"
      ]
    },
    {
      "cell_type": "code",
      "metadata": {
        "id": "Xq0JdptFPhCe",
        "colab_type": "code",
        "outputId": "d8dfc2e0-cfdb-4395-96ef-bcd7fe7a8959",
        "colab": {
          "base_uri": "https://localhost:8080/",
          "height": 34
        }
      },
      "source": [
        "db = torch.rand(num_entries) > 0.5\n",
        "db\n",
        "db.shape"
      ],
      "execution_count": 0,
      "outputs": [
        {
          "output_type": "execute_result",
          "data": {
            "text/plain": [
              "torch.Size([5000])"
            ]
          },
          "metadata": {
            "tags": []
          },
          "execution_count": 11
        }
      ]
    },
    {
      "cell_type": "markdown",
      "metadata": {
        "id": "kVniuwIwQVvD",
        "colab_type": "text"
      },
      "source": [
        "To do this we have to first copy the database and then remove an entry by slicing off an entry before the one we want to remove and the entry after the one we want to remove. "
      ]
    },
    {
      "cell_type": "code",
      "metadata": {
        "id": "dJq33fsbPhL9",
        "colab_type": "code",
        "outputId": "80cd3ae6-41e8-4b83-a3ec-3fe39206952a",
        "colab": {
          "base_uri": "https://localhost:8080/",
          "height": 34
        }
      },
      "source": [
        "db[0:5] #this finds the 4th entry"
      ],
      "execution_count": 0,
      "outputs": [
        {
          "output_type": "execute_result",
          "data": {
            "text/plain": [
              "tensor([1, 1, 0, 0, 0], dtype=torch.uint8)"
            ]
          },
          "metadata": {
            "tags": []
          },
          "execution_count": 12
        }
      ]
    },
    {
      "cell_type": "code",
      "metadata": {
        "id": "X-pecqEfPhPC",
        "colab_type": "code",
        "colab": {}
      },
      "source": [
        "remove_index = 2 #To slice off the 2nd index "
      ],
      "execution_count": 0,
      "outputs": []
    },
    {
      "cell_type": "code",
      "metadata": {
        "id": "cMusYlM3PhRr",
        "colab_type": "code",
        "colab": {}
      },
      "source": [
        "def get_parallel_db(db, remove_index):\n",
        "  return torch.cat((db[0:remove_index],\n",
        "                    db[remove_index+1:]))"
      ],
      "execution_count": 0,
      "outputs": []
    },
    {
      "cell_type": "code",
      "metadata": {
        "id": "-qQSP4O0PhUb",
        "colab_type": "code",
        "outputId": "7715699a-9fff-40e6-d08b-c440ce3ef4a6",
        "colab": {
          "base_uri": "https://localhost:8080/",
          "height": 34
        }
      },
      "source": [
        "get_parallel_db(db, 0).shape \n",
        "#this will show that one entry is removed because the count will reduce by 1."
      ],
      "execution_count": 0,
      "outputs": [
        {
          "output_type": "execute_result",
          "data": {
            "text/plain": [
              "torch.Size([4999])"
            ]
          },
          "metadata": {
            "tags": []
          },
          "execution_count": 15
        }
      ]
    },
    {
      "cell_type": "code",
      "metadata": {
        "id": "IOxi-CIZS69_",
        "colab_type": "code",
        "colab": {}
      },
      "source": [
        ""
      ],
      "execution_count": 0,
      "outputs": []
    },
    {
      "cell_type": "markdown",
      "metadata": {
        "id": "ubp88EPhSnUn",
        "colab_type": "text"
      },
      "source": [
        "Write a second function that will iterate over our database and create one of these parallel databases with that value removed."
      ]
    },
    {
      "cell_type": "code",
      "metadata": {
        "id": "3nwpUjkHPhXj",
        "colab_type": "code",
        "colab": {}
      },
      "source": [
        "parallel_dbs = list()"
      ],
      "execution_count": 0,
      "outputs": []
    },
    {
      "cell_type": "code",
      "metadata": {
        "id": "KXh5RF8NPhaw",
        "colab_type": "code",
        "colab": {}
      },
      "source": [
        "def get_parallel_dbs(db):\n",
        "  \n",
        "  parallel_dbs = list()\n",
        "\n",
        "\n",
        "  for i in range(len(db)):\n",
        "    pdb = get_parallel_db(db, i)\n",
        "    parallel_dbs.append(pdb)\n",
        "  \n",
        "  return parallel_dbs"
      ],
      "execution_count": 0,
      "outputs": []
    },
    {
      "cell_type": "code",
      "metadata": {
        "id": "h1AcGHipUlKJ",
        "colab_type": "code",
        "outputId": "5656a531-1c74-49be-dce6-e03cbfd94fb9",
        "colab": {
          "base_uri": "https://localhost:8080/",
          "height": 34
        }
      },
      "source": [
        "len(parallel_dbs)"
      ],
      "execution_count": 0,
      "outputs": [
        {
          "output_type": "execute_result",
          "data": {
            "text/plain": [
              "0"
            ]
          },
          "metadata": {
            "tags": []
          },
          "execution_count": 21
        }
      ]
    },
    {
      "cell_type": "code",
      "metadata": {
        "id": "R0xmmXVsPhiW",
        "colab_type": "code",
        "colab": {}
      },
      "source": [
        "pdbs = get_parallel_dbs(db)"
      ],
      "execution_count": 0,
      "outputs": []
    },
    {
      "cell_type": "code",
      "metadata": {
        "id": "THDdpQCGPhz2",
        "colab_type": "code",
        "colab": {}
      },
      "source": [
        "def create_db_and_parallels(num_entries):\n",
        "  \n",
        "  db = torch.rand(num_entries) > 0.5\n",
        "  pdbs = get_parallel_dbs(db)\n",
        "  \n",
        "  return db, pdbs"
      ],
      "execution_count": 0,
      "outputs": []
    },
    {
      "cell_type": "code",
      "metadata": {
        "id": "-mXjWOVKUFnb",
        "colab_type": "code",
        "colab": {}
      },
      "source": [
        "db, pdbs = create_db_and_parallels(20)"
      ],
      "execution_count": 0,
      "outputs": []
    },
    {
      "cell_type": "code",
      "metadata": {
        "id": "sQyMysmpUFqM",
        "colab_type": "code",
        "outputId": "5f0a875e-f874-4a78-a8f3-fb7327bb1e54",
        "colab": {
          "base_uri": "https://localhost:8080/",
          "height": 51
        }
      },
      "source": [
        "db"
      ],
      "execution_count": 0,
      "outputs": [
        {
          "output_type": "execute_result",
          "data": {
            "text/plain": [
              "tensor([0, 0, 0, 0, 1, 0, 1, 1, 1, 1, 0, 1, 0, 1, 1, 1, 0, 0, 1, 0],\n",
              "       dtype=torch.uint8)"
            ]
          },
          "metadata": {
            "tags": []
          },
          "execution_count": 25
        }
      ]
    },
    {
      "cell_type": "code",
      "metadata": {
        "id": "F2jwin5sUFs8",
        "colab_type": "code",
        "outputId": "31cc3d4f-710f-4ba1-eb33-6a51d6cf3dd7",
        "colab": {
          "base_uri": "https://localhost:8080/",
          "height": 697
        }
      },
      "source": [
        "pdbs"
      ],
      "execution_count": 0,
      "outputs": [
        {
          "output_type": "execute_result",
          "data": {
            "text/plain": [
              "[tensor([0, 0, 0, 1, 0, 1, 1, 1, 1, 0, 1, 0, 1, 1, 1, 0, 0, 1, 0],\n",
              "        dtype=torch.uint8),\n",
              " tensor([0, 0, 0, 1, 0, 1, 1, 1, 1, 0, 1, 0, 1, 1, 1, 0, 0, 1, 0],\n",
              "        dtype=torch.uint8),\n",
              " tensor([0, 0, 0, 1, 0, 1, 1, 1, 1, 0, 1, 0, 1, 1, 1, 0, 0, 1, 0],\n",
              "        dtype=torch.uint8),\n",
              " tensor([0, 0, 0, 1, 0, 1, 1, 1, 1, 0, 1, 0, 1, 1, 1, 0, 0, 1, 0],\n",
              "        dtype=torch.uint8),\n",
              " tensor([0, 0, 0, 0, 0, 1, 1, 1, 1, 0, 1, 0, 1, 1, 1, 0, 0, 1, 0],\n",
              "        dtype=torch.uint8),\n",
              " tensor([0, 0, 0, 0, 1, 1, 1, 1, 1, 0, 1, 0, 1, 1, 1, 0, 0, 1, 0],\n",
              "        dtype=torch.uint8),\n",
              " tensor([0, 0, 0, 0, 1, 0, 1, 1, 1, 0, 1, 0, 1, 1, 1, 0, 0, 1, 0],\n",
              "        dtype=torch.uint8),\n",
              " tensor([0, 0, 0, 0, 1, 0, 1, 1, 1, 0, 1, 0, 1, 1, 1, 0, 0, 1, 0],\n",
              "        dtype=torch.uint8),\n",
              " tensor([0, 0, 0, 0, 1, 0, 1, 1, 1, 0, 1, 0, 1, 1, 1, 0, 0, 1, 0],\n",
              "        dtype=torch.uint8),\n",
              " tensor([0, 0, 0, 0, 1, 0, 1, 1, 1, 0, 1, 0, 1, 1, 1, 0, 0, 1, 0],\n",
              "        dtype=torch.uint8),\n",
              " tensor([0, 0, 0, 0, 1, 0, 1, 1, 1, 1, 1, 0, 1, 1, 1, 0, 0, 1, 0],\n",
              "        dtype=torch.uint8),\n",
              " tensor([0, 0, 0, 0, 1, 0, 1, 1, 1, 1, 0, 0, 1, 1, 1, 0, 0, 1, 0],\n",
              "        dtype=torch.uint8),\n",
              " tensor([0, 0, 0, 0, 1, 0, 1, 1, 1, 1, 0, 1, 1, 1, 1, 0, 0, 1, 0],\n",
              "        dtype=torch.uint8),\n",
              " tensor([0, 0, 0, 0, 1, 0, 1, 1, 1, 1, 0, 1, 0, 1, 1, 0, 0, 1, 0],\n",
              "        dtype=torch.uint8),\n",
              " tensor([0, 0, 0, 0, 1, 0, 1, 1, 1, 1, 0, 1, 0, 1, 1, 0, 0, 1, 0],\n",
              "        dtype=torch.uint8),\n",
              " tensor([0, 0, 0, 0, 1, 0, 1, 1, 1, 1, 0, 1, 0, 1, 1, 0, 0, 1, 0],\n",
              "        dtype=torch.uint8),\n",
              " tensor([0, 0, 0, 0, 1, 0, 1, 1, 1, 1, 0, 1, 0, 1, 1, 1, 0, 1, 0],\n",
              "        dtype=torch.uint8),\n",
              " tensor([0, 0, 0, 0, 1, 0, 1, 1, 1, 1, 0, 1, 0, 1, 1, 1, 0, 1, 0],\n",
              "        dtype=torch.uint8),\n",
              " tensor([0, 0, 0, 0, 1, 0, 1, 1, 1, 1, 0, 1, 0, 1, 1, 1, 0, 0, 0],\n",
              "        dtype=torch.uint8),\n",
              " tensor([0, 0, 0, 0, 1, 0, 1, 1, 1, 1, 0, 1, 0, 1, 1, 1, 0, 0, 1],\n",
              "        dtype=torch.uint8)]"
            ]
          },
          "metadata": {
            "tags": []
          },
          "execution_count": 26
        }
      ]
    },
    {
      "cell_type": "code",
      "metadata": {
        "id": "MUZHWy0rUFvs",
        "colab_type": "code",
        "colab": {}
      },
      "source": [
        ""
      ],
      "execution_count": 0,
      "outputs": []
    },
    {
      "cell_type": "code",
      "metadata": {
        "id": "NlJfnZW-UFyd",
        "colab_type": "code",
        "colab": {}
      },
      "source": [
        ""
      ],
      "execution_count": 0,
      "outputs": []
    },
    {
      "cell_type": "code",
      "metadata": {
        "id": "PZwoEsx9UF1r",
        "colab_type": "code",
        "colab": {}
      },
      "source": [
        ""
      ],
      "execution_count": 0,
      "outputs": []
    },
    {
      "cell_type": "code",
      "metadata": {
        "id": "6AfBtAOSUGAD",
        "colab_type": "code",
        "colab": {}
      },
      "source": [
        ""
      ],
      "execution_count": 0,
      "outputs": []
    },
    {
      "cell_type": "code",
      "metadata": {
        "id": "PwCvd0seUGDT",
        "colab_type": "code",
        "colab": {}
      },
      "source": [
        ""
      ],
      "execution_count": 0,
      "outputs": []
    }
  ]
}