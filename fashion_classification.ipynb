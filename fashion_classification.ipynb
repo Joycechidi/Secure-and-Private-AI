{
  "nbformat": 4,
  "nbformat_minor": 0,
  "metadata": {
    "colab": {
      "name": "fashion_classification.ipynb",
      "version": "0.3.2",
      "provenance": [],
      "collapsed_sections": [],
      "include_colab_link": true
    },
    "kernelspec": {
      "name": "python3",
      "display_name": "Python 3"
    }
  },
  "cells": [
    {
      "cell_type": "markdown",
      "metadata": {
        "id": "view-in-github",
        "colab_type": "text"
      },
      "source": [
        "<a href=\"https://colab.research.google.com/github/Joycechidi/Secure-and-Private-AI/blob/master/fashion_classification.ipynb\" target=\"_parent\"><img src=\"https://colab.research.google.com/assets/colab-badge.svg\" alt=\"Open In Colab\"/></a>"
      ]
    },
    {
      "cell_type": "markdown",
      "metadata": {
        "id": "24X6IfoJ1RV7",
        "colab_type": "text"
      },
      "source": [
        "# Build and train a neural network to classify clothing images"
      ]
    },
    {
      "cell_type": "code",
      "metadata": {
        "id": "9YCp-BOQug4N",
        "colab_type": "code",
        "outputId": "ac438974-1120-48c8-e244-e67281bba91d",
        "colab": {
          "base_uri": "https://localhost:8080/",
          "height": 309
        }
      },
      "source": [
        "!wget https://github.com/udacity/deep-learning-v2-pytorch/raw/master/intro-to-pytorch/helper.py"
      ],
      "execution_count": 0,
      "outputs": [
        {
          "output_type": "stream",
          "text": [
            "--2019-06-10 03:46:56--  https://github.com/udacity/deep-learning-v2-pytorch/raw/master/intro-to-pytorch/helper.py\n",
            "Resolving github.com (github.com)... 192.30.255.113\n",
            "Connecting to github.com (github.com)|192.30.255.113|:443... connected.\n",
            "HTTP request sent, awaiting response... 302 Found\n",
            "Location: https://raw.githubusercontent.com/udacity/deep-learning-v2-pytorch/master/intro-to-pytorch/helper.py [following]\n",
            "--2019-06-10 03:46:56--  https://raw.githubusercontent.com/udacity/deep-learning-v2-pytorch/master/intro-to-pytorch/helper.py\n",
            "Resolving raw.githubusercontent.com (raw.githubusercontent.com)... 151.101.0.133, 151.101.64.133, 151.101.128.133, ...\n",
            "Connecting to raw.githubusercontent.com (raw.githubusercontent.com)|151.101.0.133|:443... connected.\n",
            "HTTP request sent, awaiting response... 200 OK\n",
            "Length: 2813 (2.7K) [text/plain]\n",
            "Saving to: ‘helper.py’\n",
            "\n",
            "helper.py           100%[===================>]   2.75K  --.-KB/s    in 0s      \n",
            "\n",
            "2019-06-10 03:46:56 (42.5 MB/s) - ‘helper.py’ saved [2813/2813]\n",
            "\n"
          ],
          "name": "stdout"
        }
      ]
    },
    {
      "cell_type": "code",
      "metadata": {
        "id": "DbKkFGLt1VQ2",
        "colab_type": "code",
        "colab": {}
      },
      "source": [
        "import torch\n",
        "\n",
        "from torch import optim\n",
        "from torchvision import datasets, transforms\n",
        "import helper\n",
        "\n",
        "import matplotlib.pyplot as plt"
      ],
      "execution_count": 0,
      "outputs": []
    },
    {
      "cell_type": "code",
      "metadata": {
        "id": "I_W7HFSv1VTe",
        "colab_type": "code",
        "colab": {}
      },
      "source": [
        "from torchvision import datasets, transforms\n",
        "\n",
        "transform = transforms.Compose([transforms.ToTensor(),\n",
        "                               transforms.Normalize((0.5,), (0.5,), (0.5,)),\n",
        "                               ])\n",
        "\n",
        "# #Download and load the training data\n",
        "trainset = datasets.FashionMNIST('~/.pytorch/F_MNIST_data/', download=True, train=True, transform=transform)\n",
        "trainloader = torch.utils.data.DataLoader(trainset, batch_size=64, shuffle=True)\n",
        "\n",
        "\n",
        "#Download and load the test data\n",
        "testset = datasets.FashionMNIST('~/.pytorch/F_MNIST_data/', download=True, train=True, transform=transform)\n",
        "testloader = torch.utils.data.DataLoader(testset, batch_size=64, shuffle=True)\n"
      ],
      "execution_count": 0,
      "outputs": []
    },
    {
      "cell_type": "markdown",
      "metadata": {
        "id": "fyLd2uGOv4mN",
        "colab_type": "text"
      },
      "source": [
        "Let's seee one of the images"
      ]
    },
    {
      "cell_type": "code",
      "metadata": {
        "id": "Y_BbGp7lv-pa",
        "colab_type": "code",
        "outputId": "530ebfca-57a7-4abd-cda9-383357cac3a5",
        "colab": {
          "base_uri": "https://localhost:8080/",
          "height": 252
        }
      },
      "source": [
        "image, label = next(iter(trainloader))\n",
        "helper.imshow(image[0,:]);"
      ],
      "execution_count": 0,
      "outputs": [
        {
          "output_type": "display_data",
          "data": {
            "image/png": "[encoded data removed]",
            "text/plain": [
              "<Figure size 432x288 with 1 Axes>"
            ]
          },
          "metadata": {
            "tags": []
          }
        }
      ]
    },
    {
      "cell_type": "markdown",
      "metadata": {
        "id": "GDDZYouowWOy",
        "colab_type": "text"
      },
      "source": [
        "As with MNIST, each image is 28x28 which is a total of 784 pixels, and there are 10 classes. \n",
        "\n",
        "Use ReLU activations for the layers and to return the logits or log-softmax from the forward pass. \n",
        "Choose how many layers you add and the size of those layers."
      ]
    },
    {
      "cell_type": "markdown",
      "metadata": {
        "id": "Ub9Cn_3p2zFg",
        "colab_type": "text"
      },
      "source": [
        "# Building the Network"
      ]
    },
    {
      "cell_type": "code",
      "metadata": {
        "id": "de4VHdnk1VYV",
        "colab_type": "code",
        "outputId": "32a88fe6-3289-482a-a044-179415b45c1e",
        "colab": {
          "base_uri": "https://localhost:8080/",
          "height": 68
        }
      },
      "source": [
        "dataiter = iter(trainloader)\n",
        "images, labels = dataiter.next()\n",
        "\n",
        "print(type(images))\n",
        "print(images.shape)\n",
        "print(labels.shape)"
      ],
      "execution_count": 0,
      "outputs": [
        {
          "output_type": "stream",
          "text": [
            "<class 'torch.Tensor'>\n",
            "torch.Size([64, 1, 28, 28])\n",
            "torch.Size([64])\n"
          ],
          "name": "stdout"
        }
      ]
    },
    {
      "cell_type": "code",
      "metadata": {
        "id": "ekjUdv233N8I",
        "colab_type": "code",
        "colab": {}
      },
      "source": [
        "#Define my network architecture\n",
        "\n",
        "from torch import nn, optim\n",
        "import torch.nn.functional as F"
      ],
      "execution_count": 0,
      "outputs": []
    },
    {
      "cell_type": "code",
      "metadata": {
        "id": "2-s_qiTiw99L",
        "colab_type": "code",
        "outputId": "3353dca7-2347-4d98-a0cc-42378579ba03",
        "colab": {
          "base_uri": "https://localhost:8080/",
          "height": 119
        }
      },
      "source": [
        "#Define the network architecture\n",
        "class Classifier(nn.Module):\n",
        "  def __init__(self):\n",
        "    super().__init__()\n",
        "    \n",
        "    #Defining the layers, 128, 64, 10 units each\n",
        "#     n_input = 784\n",
        "#     n_hidden = 256\n",
        "#     n_hidden1 = 128\n",
        "#     n_hidden2 = 64\n",
        "#     n_output = 10    #softmax\n",
        "    \n",
        "    self.fc1 = nn.Linear(784, 256)\n",
        "    self.fc2 = nn.Linear(256,128)\n",
        "    self.fc3 = nn.Linear(128, 64)\n",
        "    \n",
        "    #Output layer, 10 units - one for each digit\n",
        "    self.fc4 = nn.Linear(64, 10)\n",
        "    \n",
        "  def forward(self, x):\n",
        "    '''Forward pass through the network, returns the output logits.\n",
        "    Flatten the input tensors\n",
        "    '''\n",
        "    \n",
        "    x = x.view(x.shape[0], -1)\n",
        "    \n",
        "    x = F.relu(self.fc1(x))\n",
        "    x = F.relu(self.fc2(x))\n",
        "    x = F.relu(self.fc3(x))\n",
        "   \n",
        "    x = F.log_softmax(self.fc4(x), dim=1)\n",
        "    \n",
        "    \n",
        "    return x\n",
        "  \n",
        "model = Classifier()\n",
        "model\n",
        "              "
      ],
      "execution_count": 0,
      "outputs": [
        {
          "output_type": "execute_result",
          "data": {
            "text/plain": [
              "Classifier(\n",
              "  (fc1): Linear(in_features=784, out_features=256, bias=True)\n",
              "  (fc2): Linear(in_features=256, out_features=128, bias=True)\n",
              "  (fc3): Linear(in_features=128, out_features=64, bias=True)\n",
              "  (fc4): Linear(in_features=64, out_features=10, bias=True)\n",
              ")"
            ]
          },
          "metadata": {
            "tags": []
          },
          "execution_count": 12
        }
      ]
    },
    {
      "cell_type": "markdown",
      "metadata": {
        "id": "dhLIrL6P3zwN",
        "colab_type": "text"
      },
      "source": [
        "Initializing weights and biases"
      ]
    },
    {
      "cell_type": "code",
      "metadata": {
        "id": "eIZkhHYJ3BfG",
        "colab_type": "code",
        "outputId": "7172b64c-433d-4423-f4b5-28361fce52b3",
        "colab": {
          "base_uri": "https://localhost:8080/",
          "height": 2332
        }
      },
      "source": [
        "print(model.fc4.weight)\n",
        "print(model.fc4.bias)"
      ],
      "execution_count": 0,
      "outputs": [
        {
          "output_type": "stream",
          "text": [
            "Parameter containing:\n",
            "tensor([[ 3.9299e-02,  2.1975e-02,  3.1323e-02,  5.1178e-02,  8.6593e-02,\n",
            "         -4.7515e-02,  7.4601e-02, -1.9377e-02,  1.1726e-01, -1.0256e-01,\n",
            "         -4.5163e-02, -4.8916e-02, -1.1571e-01, -1.1377e-01, -6.5923e-02,\n",
            "         -1.1254e-01,  7.2630e-02, -1.0322e-01, -2.8581e-02, -4.0978e-02,\n",
            "          1.4905e-02, -1.6588e-02, -6.8803e-02, -3.0760e-02, -2.5150e-02,\n",
            "         -2.6219e-02,  1.2259e-01,  2.0309e-02, -5.2899e-02, -1.2722e-02,\n",
            "          1.5282e-02, -3.9968e-02,  7.0522e-02,  7.8290e-02, -6.5559e-02,\n",
            "          3.6777e-02,  8.7550e-02, -5.2479e-02, -1.0056e-01,  9.1113e-02,\n",
            "          1.1940e-03,  1.7466e-02, -1.0527e-01, -1.1141e-01,  3.3273e-02,\n",
            "          1.1027e-01, -1.2052e-01,  3.6612e-02,  9.1720e-02,  5.9893e-03,\n",
            "         -1.2139e-01, -7.5606e-02, -1.1094e-01, -1.8750e-02,  1.2291e-02,\n",
            "         -1.0847e-01, -2.0968e-02, -7.6567e-02, -3.0854e-02, -5.6046e-02,\n",
            "         -2.3657e-02, -3.4938e-02, -1.2700e-02, -4.4245e-02],\n",
            "        [ 4.4975e-02, -8.9195e-03,  1.0516e-01, -1.1994e-01, -1.8012e-02,\n",
            "          7.8889e-02, -7.9607e-02,  1.0395e-01, -1.1725e-01,  6.3798e-02,\n",
            "         -2.8623e-02,  1.9295e-02,  5.1133e-02,  6.9515e-02, -8.6129e-02,\n",
            "          8.5097e-02, -5.4481e-02,  9.4972e-02,  3.9826e-02,  9.4543e-02,\n",
            "          9.8247e-02, -4.8068e-03, -5.8040e-02,  5.4132e-02, -2.6301e-02,\n",
            "         -1.6693e-02, -7.0502e-03, -6.5910e-02,  2.8187e-02,  8.0593e-02,\n",
            "         -5.1290e-02, -1.3387e-02, -8.6656e-02, -1.2545e-02,  8.4517e-02,\n",
            "          3.0474e-02, -3.9383e-02, -8.0395e-02,  1.5979e-02,  7.3132e-02,\n",
            "         -5.3215e-02, -1.0813e-01,  1.0248e-01,  1.5274e-02,  1.3925e-02,\n",
            "          1.0140e-01, -6.7114e-02,  6.2168e-02,  6.7522e-02,  8.6303e-02,\n",
            "         -9.2536e-02,  7.2326e-03, -1.2025e-01,  9.7512e-02,  6.2215e-02,\n",
            "         -9.2824e-02, -1.2158e-02, -8.9617e-02, -1.0452e-01, -4.8104e-02,\n",
            "         -9.6855e-02, -6.9300e-02, -1.6274e-02,  2.5073e-02],\n",
            "        [-1.9804e-02,  3.8028e-02,  3.6178e-02,  4.3421e-02, -8.9001e-02,\n",
            "         -8.7414e-02,  2.5964e-02,  3.1928e-02, -2.7568e-02,  8.7292e-02,\n",
            "         -6.9999e-02,  7.6647e-02, -5.7524e-02, -5.3667e-02, -3.7187e-02,\n",
            "         -9.8672e-02, -3.6445e-02,  1.1760e-01,  2.8514e-02,  5.6300e-02,\n",
            "         -3.8156e-02, -5.3188e-02,  9.9334e-02, -4.1305e-02, -7.0706e-02,\n",
            "         -6.2505e-02, -6.6817e-02,  4.3027e-02, -2.8817e-02,  8.8656e-02,\n",
            "          3.8978e-02, -9.3863e-02,  6.0618e-02,  2.4803e-02,  1.0299e-01,\n",
            "          5.0293e-02, -9.3981e-02, -8.8132e-02, -8.9743e-02, -6.7437e-02,\n",
            "          5.7231e-02, -5.1744e-02, -7.0806e-02,  1.2050e-01,  5.2373e-02,\n",
            "         -9.4972e-02, -8.9753e-02, -1.3128e-03, -1.5105e-02, -1.0860e-02,\n",
            "         -5.1266e-02,  1.2487e-01, -6.1528e-02,  1.1080e-01,  3.0115e-02,\n",
            "         -1.1014e-01, -1.1716e-01, -6.9555e-02, -1.1502e-01, -8.2739e-02,\n",
            "          5.9460e-02, -1.0855e-01,  4.8328e-02,  6.0686e-02],\n",
            "        [ 8.8230e-03,  1.0719e-01,  9.1303e-02, -8.1413e-03,  1.2521e-02,\n",
            "         -1.7911e-05,  9.5614e-03,  6.2626e-02,  6.2255e-02,  6.3961e-02,\n",
            "         -6.8032e-02,  5.0674e-02,  6.0784e-02, -9.4346e-02,  5.2524e-02,\n",
            "          2.0962e-02, -1.1782e-02, -6.6227e-02,  7.1137e-03, -4.1782e-02,\n",
            "         -8.6902e-02, -8.6465e-02, -3.5753e-02,  8.6968e-02,  5.4760e-02,\n",
            "          5.0008e-02,  4.9847e-03, -9.4003e-02,  1.0731e-01, -3.0570e-03,\n",
            "         -1.0622e-01, -1.0307e-01,  4.8244e-02,  9.2579e-03, -3.5848e-02,\n",
            "          7.6592e-02,  1.0244e-02, -2.3626e-02,  4.1041e-02,  2.8932e-02,\n",
            "         -6.3844e-02, -7.9167e-02, -1.1531e-01, -2.6314e-02, -2.2256e-02,\n",
            "          8.9649e-02,  4.7450e-02, -2.6395e-02,  1.1795e-01,  3.8935e-02,\n",
            "         -3.5570e-03, -9.3744e-02,  3.5295e-02,  9.8712e-02, -6.1329e-02,\n",
            "         -1.5081e-02,  6.8733e-02, -2.6492e-02, -7.4298e-02,  3.1702e-02,\n",
            "          5.1647e-02,  1.1810e-01,  6.5825e-02,  8.9254e-02],\n",
            "        [ 9.7020e-02, -1.0964e-01,  7.6033e-02, -2.5687e-02,  7.8095e-02,\n",
            "          8.4589e-03, -2.0822e-02, -9.9195e-02, -5.7971e-02,  5.7374e-02,\n",
            "          9.3210e-02,  7.5806e-02,  7.1465e-02,  9.1487e-02,  1.2360e-01,\n",
            "          5.3620e-02,  1.0839e-01,  1.2457e-01,  1.1555e-01,  1.8250e-02,\n",
            "          1.0044e-01,  6.0440e-02,  1.0399e-02,  8.3038e-02, -1.2034e-01,\n",
            "         -9.3264e-02,  1.0105e-01,  1.1504e-01,  6.1266e-02,  8.9885e-02,\n",
            "         -2.1338e-02, -8.0095e-02,  1.8030e-02,  2.0868e-02,  8.9632e-02,\n",
            "         -3.2252e-02, -7.7779e-02, -5.9955e-02,  9.8805e-02,  7.1189e-02,\n",
            "          1.1654e-01,  1.1118e-01, -3.4732e-02, -1.0186e-01, -8.2024e-02,\n",
            "          2.2918e-02,  8.0730e-02, -6.6682e-02, -9.9357e-02, -1.1614e-01,\n",
            "          1.1966e-01,  9.9972e-02, -1.8907e-02,  2.7938e-02, -4.3242e-02,\n",
            "          8.9554e-04, -5.1172e-02,  1.6934e-02, -1.1723e-01, -5.6022e-02,\n",
            "         -1.1252e-01,  3.9438e-02, -5.7603e-02,  8.6746e-02],\n",
            "        [ 1.0162e-01, -3.4610e-02, -7.2041e-02, -5.6348e-02, -2.5406e-02,\n",
            "          3.8296e-03,  6.8607e-02,  6.8223e-03,  9.5129e-02,  1.0637e-01,\n",
            "         -1.0822e-02, -5.3533e-02,  1.2344e-01,  7.4300e-02,  6.3802e-02,\n",
            "         -6.6023e-02,  3.3535e-02,  8.3348e-02,  7.6027e-02,  1.3182e-02,\n",
            "         -6.9943e-03, -1.8537e-02,  3.1886e-02,  7.9716e-02, -1.3105e-02,\n",
            "          8.2176e-02, -1.1330e-01,  1.9536e-02, -2.6837e-02,  9.3967e-03,\n",
            "         -1.0644e-01, -5.6678e-02,  7.5945e-02,  7.5215e-03, -4.4753e-02,\n",
            "          7.7089e-02,  1.1761e-01, -1.0300e-01,  1.2087e-01, -6.4326e-02,\n",
            "         -8.7864e-02,  4.9643e-02, -5.3995e-02, -6.7823e-02,  8.5749e-02,\n",
            "          6.9435e-02, -1.7242e-02,  6.4672e-02, -8.9175e-02,  8.4383e-02,\n",
            "         -6.0956e-02,  1.1357e-01,  4.9831e-02, -8.7111e-02, -1.1578e-01,\n",
            "         -1.5619e-02,  5.9690e-02, -7.2130e-02,  1.0218e-01, -1.4208e-02,\n",
            "         -4.9095e-02,  1.6354e-02, -9.1502e-02, -5.0740e-02],\n",
            "        [ 9.3979e-02, -4.8174e-03, -1.2280e-01, -7.0904e-03,  3.8488e-04,\n",
            "          2.1716e-02, -6.2484e-02, -5.4512e-02,  3.5615e-02, -8.1774e-02,\n",
            "         -9.4957e-02, -5.9532e-02,  2.2130e-02,  7.8296e-02,  4.6104e-02,\n",
            "         -9.4506e-02,  3.6388e-03, -5.8368e-02,  6.0335e-02, -1.0464e-01,\n",
            "          7.8272e-02, -9.3918e-02, -3.1875e-02,  7.2857e-02, -3.7679e-02,\n",
            "         -1.2003e-01, -6.8317e-02,  9.4391e-02, -1.5510e-02, -3.4163e-02,\n",
            "         -3.8624e-02, -1.0578e-01,  2.4888e-03, -7.7470e-02,  3.6061e-02,\n",
            "         -6.9356e-02,  1.1554e-01, -9.8195e-02, -7.1027e-02, -1.1732e-01,\n",
            "          1.0102e-01,  3.3384e-02,  8.8781e-03,  4.8159e-02,  9.4745e-02,\n",
            "          5.7838e-02, -3.5194e-02,  6.2164e-02,  9.2693e-02, -9.5764e-02,\n",
            "         -4.3448e-02, -3.1020e-02, -7.2756e-02,  7.9693e-02, -1.1298e-01,\n",
            "         -9.0890e-02, -3.3194e-02,  9.3909e-02,  1.5927e-03, -4.7016e-02,\n",
            "          1.2141e-01,  9.7606e-02, -1.0890e-02, -1.1858e-01],\n",
            "        [ 1.0877e-01, -9.4247e-02,  2.0548e-02, -5.0029e-02,  1.9892e-02,\n",
            "         -6.2878e-02, -6.6911e-04,  3.1583e-02,  6.2318e-02, -8.6413e-02,\n",
            "         -3.1108e-02, -3.6885e-02,  9.5124e-03,  8.4699e-02,  4.5594e-02,\n",
            "          1.6573e-03,  3.6255e-02,  4.8104e-02, -3.9386e-02, -5.4609e-02,\n",
            "          1.0722e-01,  7.5074e-02, -1.0073e-01, -5.7815e-03, -4.1567e-02,\n",
            "         -1.8121e-03, -9.6605e-02,  1.1694e-01,  1.0009e-01,  3.0067e-02,\n",
            "         -7.9365e-02,  3.4226e-02, -6.2497e-02, -4.5498e-02, -2.8482e-02,\n",
            "          8.0867e-02, -7.8330e-02,  4.4008e-02,  1.5525e-02, -6.0669e-04,\n",
            "         -4.1991e-02, -9.1897e-02, -6.8181e-02,  2.5588e-04,  1.1156e-01,\n",
            "         -1.0855e-01,  1.0206e-02, -7.1555e-02, -1.1231e-01, -1.2244e-01,\n",
            "         -1.1461e-01, -1.0522e-01,  8.4747e-02, -1.0163e-01, -5.4628e-02,\n",
            "         -3.6982e-03,  9.4400e-02, -5.3173e-02,  1.2103e-01,  3.7254e-02,\n",
            "         -9.3099e-02,  2.9622e-02, -8.2920e-03, -8.9446e-02],\n",
            "        [-9.6035e-02, -6.5581e-02, -4.6771e-02, -9.6464e-02, -5.5011e-03,\n",
            "         -1.0526e-01, -8.5146e-02,  1.2509e-02, -1.1599e-01,  6.9573e-02,\n",
            "          1.7197e-02, -5.4314e-02, -3.6105e-03, -1.1480e-01,  9.7574e-02,\n",
            "         -5.5520e-02, -9.5534e-02,  1.0960e-01, -5.1447e-02, -1.1017e-02,\n",
            "          6.5682e-02,  6.1390e-02, -2.6387e-02, -1.0881e-01, -9.7426e-02,\n",
            "         -1.1935e-01, -3.6019e-04,  7.1942e-02,  8.2621e-02,  5.9742e-02,\n",
            "          4.3049e-02,  1.1372e-01,  1.1104e-01,  7.6791e-02, -1.0513e-01,\n",
            "         -1.2420e-01, -7.0163e-02, -1.0683e-01, -5.7717e-02, -2.8589e-02,\n",
            "         -8.5058e-02,  2.4847e-02,  1.0003e-01,  8.9166e-02,  7.7019e-02,\n",
            "          3.0317e-02,  4.6149e-02, -5.7715e-02,  7.6662e-02,  3.6409e-02,\n",
            "         -5.8007e-02, -1.1528e-01, -7.8953e-02,  7.0809e-02, -1.2885e-02,\n",
            "          9.3483e-02, -5.8222e-02,  4.0375e-02, -2.1145e-02,  3.2452e-02,\n",
            "          6.3725e-02, -3.7511e-02,  6.4973e-02,  1.2017e-02],\n",
            "        [-4.0820e-02,  9.4805e-02, -5.2051e-02,  1.0284e-01,  9.9533e-02,\n",
            "          1.8083e-02,  8.2373e-02, -1.7716e-02,  1.2282e-01,  7.5029e-02,\n",
            "          1.0608e-01, -1.9437e-02,  1.0990e-01, -1.0747e-01, -9.1478e-02,\n",
            "         -1.1911e-01,  2.3943e-02, -1.0848e-01,  1.0062e-01, -1.1266e-01,\n",
            "          2.2763e-02, -9.5570e-04,  2.2794e-02,  1.0215e-01,  1.0909e-02,\n",
            "         -6.3828e-02, -6.5192e-02,  2.9420e-02,  7.1692e-02,  6.6284e-02,\n",
            "          2.5094e-02,  1.0398e-01, -9.5931e-02, -6.1141e-02,  1.1167e-01,\n",
            "          1.2101e-01,  2.8460e-02, -1.1855e-01,  5.7223e-02, -1.9021e-02,\n",
            "         -9.9739e-03, -1.2240e-02,  3.2071e-02,  8.9813e-02,  5.0193e-02,\n",
            "         -6.2913e-02,  4.8666e-04,  8.6752e-02,  3.8658e-02,  4.9043e-02,\n",
            "          7.2307e-02,  9.6698e-02,  9.8011e-02, -5.3128e-03, -7.0347e-02,\n",
            "         -1.0012e-01,  1.4747e-02, -1.1552e-01,  6.0837e-02, -1.2062e-01,\n",
            "          1.5609e-02, -9.7883e-02, -5.1611e-02, -9.4915e-02]],\n",
            "       requires_grad=True)\n",
            "Parameter containing:\n",
            "tensor([ 0.0506, -0.0280,  0.1077, -0.0905,  0.0211,  0.0625,  0.0976,  0.0784,\n",
            "         0.0279, -0.0193], requires_grad=True)\n"
          ],
          "name": "stdout"
        }
      ]
    },
    {
      "cell_type": "markdown",
      "metadata": {
        "id": "XdWg177c4JfJ",
        "colab_type": "text"
      },
      "source": [
        "Modify the tensors in place"
      ]
    },
    {
      "cell_type": "code",
      "metadata": {
        "id": "RnXHvMj01VfM",
        "colab_type": "code",
        "colab": {}
      },
      "source": [
        "#Set bias to all zeros\n",
        "#model.fc4.bias.data.fill_(0)"
      ],
      "execution_count": 0,
      "outputs": []
    },
    {
      "cell_type": "code",
      "metadata": {
        "id": "mXEjUKSz1Vh0",
        "colab_type": "code",
        "colab": {}
      },
      "source": [
        "#sample from random normal with standard dev = 0.01\n",
        "#model.fc4.weight.data.normal_(std=0.01)"
      ],
      "execution_count": 0,
      "outputs": []
    },
    {
      "cell_type": "markdown",
      "metadata": {
        "id": "qxCgRbDc4vnd",
        "colab_type": "text"
      },
      "source": [
        "# Forward Pass\n",
        "\n",
        "We now have an image, let's see what happens when we pass in an image"
      ]
    },
    {
      "cell_type": "code",
      "metadata": {
        "id": "4h5ZLNa81VkB",
        "colab_type": "code",
        "colab": {}
      },
      "source": [
        "# # Grab some data \n",
        "# dataiter = iter(trainloader)\n",
        "# images, labels = dataiter.next()\n",
        "\n",
        "# # Resize images into a 1D vector, new shape is (batch size, color channels, image pixels) \n",
        "# images.resize_(64, 1, 784)\n",
        "# # or images.resize_(images.shape[0], 1, 784) to automatically get batch size\n",
        "\n",
        "# # Forward pass through the network\n",
        "# img_idx = 0\n",
        "# ps = model.forward(images[img_idx,:])\n",
        "\n",
        "# img = images[img_idx]"
      ],
      "execution_count": 0,
      "outputs": []
    },
    {
      "cell_type": "markdown",
      "metadata": {
        "id": "MXFJWr696IDw",
        "colab_type": "text"
      },
      "source": [
        "# Optimize before training the network\n",
        "\n",
        "Before training the model, we need to take a few more steps Use an optimizer to update the weight with the gradients. We get the optimizers from the optim package. E.g use stochastic gradient descent with optim.SGD"
      ]
    },
    {
      "cell_type": "markdown",
      "metadata": {
        "id": "tB5Rfbib6r8w",
        "colab_type": "text"
      },
      "source": [
        "# Training the Network"
      ]
    },
    {
      "cell_type": "code",
      "metadata": {
        "id": "0Ef-X76k52WV",
        "colab_type": "code",
        "colab": {}
      },
      "source": [
        "#Define the criterion and optimizer\n",
        "\n",
        "model = Classifier()\n",
        "\n",
        "#Define the loss\n",
        "criterion = nn.NLLLoss()  #NLLLoss means Negative Log Likelihood Loss\n",
        "\n",
        "#Optimize the parameters\n",
        "optimizer = optim.Adam(model.parameters(), lr=0.003)"
      ],
      "execution_count": 0,
      "outputs": []
    },
    {
      "cell_type": "code",
      "metadata": {
        "id": "urB2vL11yk1q",
        "colab_type": "code",
        "outputId": "cab2e5af-b36e-4218-ac51-9424ed37caff",
        "colab": {
          "base_uri": "https://localhost:8080/",
          "height": 272
        }
      },
      "source": [
        "#Train the network\n",
        "epochs = 15\n",
        "\n",
        "for e in range(epochs):\n",
        "  running_loss = 0\n",
        "  \n",
        "  for images, labels in trainloader:\n",
        "    #Flaten MNIST images into a 784 long vector\n",
        "    images = images.view(images.shape[0], -1)\n",
        "    optimizer.zero_grad()\n",
        "        \n",
        "    log_ps = model(images)\n",
        "    loss = criterion(log_ps, labels)\n",
        "    \n",
        "    #TO DO: Training pass\n",
        "    optimizer.zero_grad()   \n",
        "    loss.backward()\n",
        "    optimizer.step()\n",
        "    \n",
        "    running_loss += loss.item()\n",
        "    \n",
        "  else:\n",
        "    print(f\"Training loss: {running_loss/len(trainloader)}\")"
      ],
      "execution_count": 0,
      "outputs": [
        {
          "output_type": "stream",
          "text": [
            "Training loss: 0.30072298344931625\n",
            "Training loss: 0.287890888409002\n",
            "Training loss: 0.28126887792050204\n",
            "Training loss: 0.2722526311572554\n",
            "Training loss: 0.26826959473094836\n",
            "Training loss: 0.2564487632062199\n",
            "Training loss: 0.25046094738518887\n",
            "Training loss: 0.246054194557832\n",
            "Training loss: 0.23963885653470116\n",
            "Training loss: 0.23271123229313506\n",
            "Training loss: 0.22817794708952086\n",
            "Training loss: 0.22660849125448193\n",
            "Training loss: 0.222489221982642\n",
            "Training loss: 0.21650624146927266\n",
            "Training loss: 0.21256234154883605\n"
          ],
          "name": "stdout"
        }
      ]
    },
    {
      "cell_type": "code",
      "metadata": {
        "id": "dIau7S1S52Zc",
        "colab_type": "code",
        "outputId": "18ba199a-688b-46d5-a3b3-6dbb662629b3",
        "colab": {
          "base_uri": "https://localhost:8080/",
          "height": 223
        }
      },
      "source": [
        "%matplotlib inline\n",
        "%config InlineBackend.figure_format = 'retina'\n",
        "\n",
        "import helper\n",
        "\n",
        "# Test out your network!\n",
        "\n",
        "dataiter = iter(testloader)\n",
        "images, labels = dataiter.next()\n",
        "img = images[1]\n",
        "\n",
        "# TODO: Calculate the class probabilities (softmax) for img\n",
        "ps = torch.exp(model(img))\n",
        "\n",
        "# Plot the image and probabilities\n",
        "helper.view_classify(img, ps, version='Fashion')"
      ],
      "execution_count": 0,
      "outputs": [
        {
          "output_type": "display_data",
          "data": {
            "image/png": "[encoded data removed]",
            "text/plain": [
              "<Figure size 432x648 with 2 Axes>"
            ]
          },
          "metadata": {
            "tags": [],
            "image/png": {
              "width": 423,
              "height": 206
            }
          }
        }
      ]
    },
    {
      "cell_type": "code",
      "metadata": {
        "id": "DJwAGI6M52eA",
        "colab_type": "code",
        "colab": {}
      },
      "source": [
        ""
      ],
      "execution_count": 0,
      "outputs": []
    },
    {
      "cell_type": "code",
      "metadata": {
        "id": "7NC57RTf52h0",
        "colab_type": "code",
        "colab": {}
      },
      "source": [
        ""
      ],
      "execution_count": 0,
      "outputs": []
    },
    {
      "cell_type": "code",
      "metadata": {
        "id": "GF2aiER252cK",
        "colab_type": "code",
        "colab": {}
      },
      "source": [
        ""
      ],
      "execution_count": 0,
      "outputs": []
    },
    {
      "cell_type": "code",
      "metadata": {
        "id": "0F9vzeZ152R1",
        "colab_type": "code",
        "colab": {}
      },
      "source": [
        ""
      ],
      "execution_count": 0,
      "outputs": []
    },
    {
      "cell_type": "code",
      "metadata": {
        "id": "tSFO95BT52NK",
        "colab_type": "code",
        "colab": {}
      },
      "source": [
        ""
      ],
      "execution_count": 0,
      "outputs": []
    },
    {
      "cell_type": "code",
      "metadata": {
        "id": "10G11jg152Ld",
        "colab_type": "code",
        "colab": {}
      },
      "source": [
        ""
      ],
      "execution_count": 0,
      "outputs": []
    },
    {
      "cell_type": "code",
      "metadata": {
        "id": "ZagISO5x52G7",
        "colab_type": "code",
        "colab": {}
      },
      "source": [
        ""
      ],
      "execution_count": 0,
      "outputs": []
    }
  ]
}