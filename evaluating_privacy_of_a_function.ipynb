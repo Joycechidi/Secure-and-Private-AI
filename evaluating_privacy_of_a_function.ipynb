{
  "nbformat": 4,
  "nbformat_minor": 0,
  "metadata": {
    "colab": {
      "name": "evaluating_privacy_of_a_function.ipynb",
      "version": "0.3.2",
      "provenance": [],
      "collapsed_sections": [],
      "include_colab_link": true
    },
    "kernelspec": {
      "name": "python3",
      "display_name": "Python 3"
    },
    "accelerator": "GPU"
  },
  "cells": [
    {
      "cell_type": "markdown",
      "metadata": {
        "id": "view-in-github",
        "colab_type": "text"
      },
      "source": [
        "<a href=\"https://colab.research.google.com/github/Joycechidi/Secure-and-Private-AI/blob/master/evaluating_privacy_of_a_function.ipynb\" target=\"_parent\"><img src=\"https://colab.research.google.com/assets/colab-badge.svg\" alt=\"Open In Colab\"/></a>"
      ]
    },
    {
      "cell_type": "code",
      "metadata": {
        "id": "w7SQsHRLV_Ds",
        "colab_type": "code",
        "outputId": "07f03b6c-b466-45d0-fedc-1d1bc88d8b9e",
        "colab": {
          "base_uri": "https://localhost:8080/",
          "height": 34
        }
      },
      "source": [
        "import torch\n",
        "\n",
        "#the number of entries in our database\n",
        "num_entries = 5000\n",
        "\n",
        "db = torch.rand(num_entries) > 0.5\n",
        "db\n"
      ],
      "execution_count": 0,
      "outputs": [
        {
          "output_type": "execute_result",
          "data": {
            "text/plain": [
              "tensor([0, 0, 1,  ..., 1, 1, 0], dtype=torch.uint8)"
            ]
          },
          "metadata": {
            "tags": []
          },
          "execution_count": 2
        }
      ]
    },
    {
      "cell_type": "code",
      "metadata": {
        "id": "47y95StMwJ-F",
        "colab_type": "code",
        "outputId": "22e3d520-625e-4425-a869-88e88b8c4484",
        "colab": {
          "base_uri": "https://localhost:8080/",
          "height": 34
        }
      },
      "source": [
        "db = torch.rand(num_entries) > 0.5\n",
        "db"
      ],
      "execution_count": 0,
      "outputs": [
        {
          "output_type": "execute_result",
          "data": {
            "text/plain": [
              "tensor([1, 1, 0,  ..., 0, 0, 0], dtype=torch.uint8)"
            ]
          },
          "metadata": {
            "tags": []
          },
          "execution_count": 3
        }
      ]
    },
    {
      "cell_type": "code",
      "metadata": {
        "id": "6vSmxzo4wKE1",
        "colab_type": "code",
        "colab": {}
      },
      "source": [
        "def get_parallel_db(db, remove_index):\n",
        "\n",
        "    return torch.cat((db[0:remove_index], \n",
        "                      db[remove_index+1:]))"
      ],
      "execution_count": 0,
      "outputs": []
    },
    {
      "cell_type": "code",
      "metadata": {
        "id": "wC05UZlUwKH_",
        "colab_type": "code",
        "outputId": "2ea5c032-230e-4b6e-d535-62f183ff1f32",
        "colab": {
          "base_uri": "https://localhost:8080/",
          "height": 34
        }
      },
      "source": [
        "get_parallel_db(db, 52352)\n"
      ],
      "execution_count": 0,
      "outputs": [
        {
          "output_type": "execute_result",
          "data": {
            "text/plain": [
              "tensor([1, 1, 0,  ..., 0, 0, 0], dtype=torch.uint8)"
            ]
          },
          "metadata": {
            "tags": []
          },
          "execution_count": 5
        }
      ]
    },
    {
      "cell_type": "code",
      "metadata": {
        "id": "EY9dFo3nwKK8",
        "colab_type": "code",
        "colab": {}
      },
      "source": [
        "def get_parallel_dbs(db):\n",
        "\n",
        "    parallel_dbs = list()\n",
        "\n",
        "    for i in range(len(db)):\n",
        "        pdb = get_parallel_db(db, i)\n",
        "        parallel_dbs.append(pdb)\n",
        "    \n",
        "    return parallel_dbs"
      ],
      "execution_count": 0,
      "outputs": []
    },
    {
      "cell_type": "code",
      "metadata": {
        "id": "MKmfffWOwYpz",
        "colab_type": "code",
        "colab": {}
      },
      "source": [
        "pdbs = get_parallel_dbs(db)"
      ],
      "execution_count": 0,
      "outputs": []
    },
    {
      "cell_type": "code",
      "metadata": {
        "id": "dI23-wYywKN7",
        "colab_type": "code",
        "colab": {}
      },
      "source": [
        "def create_db_and_parallels(num_entries):\n",
        "    \n",
        "    db = torch.rand(num_entries) > 0.5\n",
        "    pdbs = get_parallel_dbs(db)\n",
        "    \n",
        "    return db, pdbs"
      ],
      "execution_count": 0,
      "outputs": []
    },
    {
      "cell_type": "code",
      "metadata": {
        "id": "S93_Sq0OTzw3",
        "colab_type": "code",
        "colab": {}
      },
      "source": [
        "def sensitivity(query, n_entries=1000):\n",
        "    db, pdbs = create_db_and_parallels(n_entries)\n",
        "    full_db_result = query(db)\n",
        "    \n",
        "    max_distance = 0\n",
        "    \n",
        "    for pdb in pdbs:\n",
        "        pdb_result = query(pdb)\n",
        "        \n",
        "        db_distance = torch.abs(pdb_result - full_db_result)\n",
        "        \n",
        "        \n",
        "        if(db_distance > max_distance):\n",
        "            \n",
        "            max_distance = db_distance\n",
        "        \n",
        "    return max_distance"
      ],
      "execution_count": 0,
      "outputs": []
    },
    {
      "cell_type": "code",
      "metadata": {
        "id": "duAoEn3rTz5M",
        "colab_type": "code",
        "colab": {}
      },
      "source": [
        "def query(db):\n",
        "    return db.float().mean()"
      ],
      "execution_count": 0,
      "outputs": []
    },
    {
      "cell_type": "code",
      "metadata": {
        "id": "UrJPChHtuYSk",
        "colab_type": "code",
        "colab": {}
      },
      "source": [
        "db, pdbs = create_db_and_parallels(20)"
      ],
      "execution_count": 0,
      "outputs": []
    },
    {
      "cell_type": "code",
      "metadata": {
        "id": "fleIDgOiT0AM",
        "colab_type": "code",
        "outputId": "6a5a23f7-d398-4880-cc16-c086a1f7157a",
        "colab": {
          "base_uri": "https://localhost:8080/",
          "height": 34
        }
      },
      "source": [
        "sensitivity(query)"
      ],
      "execution_count": 0,
      "outputs": [
        {
          "output_type": "execute_result",
          "data": {
            "text/plain": [
              "tensor(0.0005)"
            ]
          },
          "metadata": {
            "tags": []
          },
          "execution_count": 13
        }
      ]
    },
    {
      "cell_type": "code",
      "metadata": {
        "id": "cFmOxtKCT2Nm",
        "colab_type": "code",
        "colab": {}
      },
      "source": [
        ""
      ],
      "execution_count": 0,
      "outputs": []
    },
    {
      "cell_type": "markdown",
      "metadata": {
        "id": "8uesCMC4gFib",
        "colab_type": "text"
      },
      "source": [
        "# Calculate L1 Sensitivity For Threshold\n",
        "Calculate the sensitivty for the \"threshold\" function.\n",
        "\n",
        "*   First compute the sum over the database (i.e. sum(db)) and return whether that sum is greater than a certain threshold.\n",
        "*   Then, I want you to create databases of size 10 and threshold of 5 and calculate the sensitivity of the function.\n",
        "*   Finally, re-initialize the database 10 times and calculate the sensitivity each time."
      ]
    },
    {
      "cell_type": "code",
      "metadata": {
        "id": "gpvPrzacT2QW",
        "colab_type": "code",
        "colab": {}
      },
      "source": [
        "def query(db, threshold=5):\n",
        "    return (db.sum() > threshold).float()"
      ],
      "execution_count": 0,
      "outputs": []
    },
    {
      "cell_type": "code",
      "metadata": {
        "id": "UdkJPvyuisJi",
        "colab_type": "code",
        "outputId": "10817ea9-0527-4d6c-893a-5c81f964a156",
        "colab": {
          "base_uri": "https://localhost:8080/",
          "height": 34
        }
      },
      "source": [
        "db, pdbs = create_db_and_parallels(10)\n",
        "db.sum()"
      ],
      "execution_count": 0,
      "outputs": [
        {
          "output_type": "execute_result",
          "data": {
            "text/plain": [
              "tensor(8)"
            ]
          },
          "metadata": {
            "tags": []
          },
          "execution_count": 15
        }
      ]
    },
    {
      "cell_type": "code",
      "metadata": {
        "id": "unYHe9Jmi502",
        "colab_type": "code",
        "outputId": "e4ac4201-57cf-46d3-9cfe-f586ec24afca",
        "colab": {
          "base_uri": "https://localhost:8080/",
          "height": 34
        }
      },
      "source": [
        "query(db)"
      ],
      "execution_count": 0,
      "outputs": [
        {
          "output_type": "execute_result",
          "data": {
            "text/plain": [
              "tensor(0.5000)"
            ]
          },
          "metadata": {
            "tags": []
          },
          "execution_count": 13
        }
      ]
    },
    {
      "cell_type": "code",
      "metadata": {
        "id": "f85e3V_0T2S2",
        "colab_type": "code",
        "outputId": "68685ba4-2554-4aaa-b37a-50f0aea9bb10",
        "colab": {
          "base_uri": "https://localhost:8080/",
          "height": 187
        }
      },
      "source": [
        "for i in range(10):\n",
        "    sens_f= sensitivity(query, n_entries=10)\n",
        "    print(sens_f)"
      ],
      "execution_count": 0,
      "outputs": [
        {
          "output_type": "stream",
          "text": [
            "tensor(1.)\n",
            "tensor(1.)\n",
            "0\n",
            "0\n",
            "0\n",
            "0\n",
            "0\n",
            "0\n",
            "0\n",
            "0\n"
          ],
          "name": "stdout"
        }
      ]
    },
    {
      "cell_type": "markdown",
      "metadata": {
        "id": "l8lTsyqKrkRp",
        "colab_type": "text"
      },
      "source": [
        "# How To Attack Privacy of The Data (Differencing Attack)\n",
        "\n",
        "Perform a Basic Differencing Attack:\n",
        "To divulge what the value is in database\n",
        "\n",
        "Sadly none of the functions we've looked at so far are differentially private (despite them having varying levels of sensitivity). The most basic type of attack can be done as follows.\n",
        "Let's say we wanted to figure out a specific person's value in the database. All we would have to do is query for the sum of the entire database and then the sum of the entire database without that person!\n",
        "\n",
        "# Project: Perform a Differencing Attack on Row 10\n",
        "\n",
        "In this project, I want you to construct a database and then demonstrate how you can use two different sum queries to explose the value of the person represented by row 10 in the database (note, you'll need to use a database with at least 10 rows)"
      ]
    },
    {
      "cell_type": "code",
      "metadata": {
        "id": "1OI2AvEjT2VF",
        "colab_type": "code",
        "colab": {}
      },
      "source": [
        "#this query includes row 10\n",
        "db, _ = create_db_and_parallels(100)"
      ],
      "execution_count": 0,
      "outputs": []
    },
    {
      "cell_type": "code",
      "metadata": {
        "id": "J_02YMBrreO0",
        "colab_type": "code",
        "colab": {}
      },
      "source": [
        "#this query excludes row 10\n",
        "\n",
        "pdb = get_parallel_db(db, remove_index=10)"
      ],
      "execution_count": 0,
      "outputs": []
    },
    {
      "cell_type": "code",
      "metadata": {
        "id": "d6vveWXPreSC",
        "colab_type": "code",
        "outputId": "d57898a0-dd1f-4515-b537-dd222f5e46d0",
        "colab": {
          "base_uri": "https://localhost:8080/",
          "height": 34
        }
      },
      "source": [
        "db[10]"
      ],
      "execution_count": 0,
      "outputs": [
        {
          "output_type": "execute_result",
          "data": {
            "text/plain": [
              "tensor(0, dtype=torch.uint8)"
            ]
          },
          "metadata": {
            "tags": []
          },
          "execution_count": 19
        }
      ]
    },
    {
      "cell_type": "code",
      "metadata": {
        "id": "oxUoBjDoreYM",
        "colab_type": "code",
        "outputId": "7973d59b-ecc0-459e-eb88-d0f7ed8ac5c9",
        "colab": {
          "base_uri": "https://localhost:8080/",
          "height": 34
        }
      },
      "source": [
        "sum(db)"
      ],
      "execution_count": 0,
      "outputs": [
        {
          "output_type": "execute_result",
          "data": {
            "text/plain": [
              "tensor(54, dtype=torch.uint8)"
            ]
          },
          "metadata": {
            "tags": []
          },
          "execution_count": 20
        }
      ]
    },
    {
      "cell_type": "code",
      "metadata": {
        "id": "D1ML40ZKrebF",
        "colab_type": "code",
        "outputId": "192de097-ef20-49ac-e73e-dc6e89439e42",
        "colab": {
          "base_uri": "https://localhost:8080/",
          "height": 34
        }
      },
      "source": [
        "# differencing attack using sum query\n",
        "\n",
        "sum(db) - sum(pdb)"
      ],
      "execution_count": 0,
      "outputs": [
        {
          "output_type": "execute_result",
          "data": {
            "text/plain": [
              "tensor(0, dtype=torch.uint8)"
            ]
          },
          "metadata": {
            "tags": []
          },
          "execution_count": 21
        }
      ]
    },
    {
      "cell_type": "code",
      "metadata": {
        "id": "tGb8UnEereeA",
        "colab_type": "code",
        "outputId": "9a5b8826-3921-4fd1-dccd-54590ef02bf9",
        "colab": {
          "base_uri": "https://localhost:8080/",
          "height": 34
        }
      },
      "source": [
        "(sum(db).float() / len(db)) - (sum(pdb).float() / len(pdb))"
      ],
      "execution_count": 0,
      "outputs": [
        {
          "output_type": "execute_result",
          "data": {
            "text/plain": [
              "tensor(-0.0057)"
            ]
          },
          "metadata": {
            "tags": []
          },
          "execution_count": 20
        }
      ]
    },
    {
      "cell_type": "code",
      "metadata": {
        "id": "zNdL6kPjrehX",
        "colab_type": "code",
        "outputId": "be9a716d-8538-40d7-fd67-15f005562dd0",
        "colab": {
          "base_uri": "https://localhost:8080/",
          "height": 34
        }
      },
      "source": [
        "# differencing attack using threshold\n",
        "\n",
        "(sum(db).float() > 49) - (sum(pdb).float()  > 49)"
      ],
      "execution_count": 0,
      "outputs": [
        {
          "output_type": "execute_result",
          "data": {
            "text/plain": [
              "tensor(0, dtype=torch.uint8)"
            ]
          },
          "metadata": {
            "tags": []
          },
          "execution_count": 22
        }
      ]
    },
    {
      "cell_type": "markdown",
      "metadata": {
        "id": "x6-5WRvd4mLA",
        "colab_type": "text"
      },
      "source": [
        "# Project: Local Differential Privacy\n",
        "\n",
        "As you can see, the basic sum query is not differentially private at all! In truth, differential privacy always requires a form of randomness added to the query. Let me show you what I mean.\n",
        "Randomized Response (Local Differential Privacy)\n",
        "Let's say I have a group of people I wish to survey about a very taboo behavior which I think they will lie about (say, I want to know if they have ever committed a certain kind of crime). I'm not a policeman, I'm just trying to collect statistics to understand the higher level trend in society. So, how do we do this? One technique is to add randomness to each person's response by giving each person the following instructions (assuming I'm asking a simple yes/no question):\n",
        "Flip a coin 2 times.\n",
        "If the first coin flip is heads, answer honestly\n",
        "If the first coin flip is tails, answer according to the second coin flip (heads for yes, tails for no)!\n",
        "Thus, each person is now protected with \"plausible deniability\". If they answer \"Yes\" to the question \"have you committed X crime?\", then it might becasue they actually did, or it might be becasue they are answering according to a random coin flip. Each person has a high degree of protection. Furthermore, we can recover the underlying statistics with some accuracy, as the \"true statistics\" are simply averaged with a 50% probability. Thus, if we collect a bunch of samples and it turns out that 60% of people answer yes, then we know that the TRUE distribution is actually centered around 70%, because 70% averaged wtih 50% (a coin flip) is 60% which is the result we obtained.\n",
        "However, it should be noted that, especially when we only have a few samples, the this comes at the cost of accuracy. This tradeoff exists across all of Differential Privacy. The greater the privacy protection (plausible deniability) the less accurate the results.\n",
        "Let's implement this local DP for our database before!"
      ]
    },
    {
      "cell_type": "code",
      "metadata": {
        "id": "hIxquZoireWU",
        "colab_type": "code",
        "outputId": "87b9b810-c284-4060-9cd2-5e367666f921",
        "colab": {
          "base_uri": "https://localhost:8080/",
          "height": 122
        }
      },
      "source": [
        "#actual values from people\n",
        "db"
      ],
      "execution_count": 0,
      "outputs": [
        {
          "output_type": "execute_result",
          "data": {
            "text/plain": [
              "tensor([0, 0, 1, 1, 1, 1, 1, 0, 1, 0, 0, 1, 0, 1, 1, 1, 0, 0, 0, 0, 1, 0, 1, 0,\n",
              "        1, 1, 0, 0, 1, 0, 0, 0, 1, 1, 1, 1, 0, 0, 1, 0, 1, 0, 1, 1, 1, 0, 0, 0,\n",
              "        0, 1, 1, 0, 0, 0, 0, 1, 1, 1, 0, 1, 1, 1, 0, 1, 1, 1, 1, 1, 1, 0, 1, 1,\n",
              "        0, 0, 0, 0, 1, 0, 0, 0, 1, 0, 1, 1, 1, 1, 1, 1, 0, 0, 1, 1, 1, 0, 1, 1,\n",
              "        0, 0, 0, 1], dtype=torch.uint8)"
            ]
          },
          "metadata": {
            "tags": []
          },
          "execution_count": 23
        }
      ]
    },
    {
      "cell_type": "code",
      "metadata": {
        "id": "4Q9ya-yytJRK",
        "colab_type": "code",
        "colab": {}
      },
      "source": [
        "def query(db):\n",
        "    true_result = torch.mean(db.float())\n",
        "    \n",
        "    first_coin_flip = (torch.rand(len(db)) > 0.5).float()\n",
        "    second_coin_flip = (torch.rand(len(db)) > 0.5).float()\n",
        "    \n",
        "    augumented_database = db.float() * first_coin_flip + (1 - first_coin_flip) * second_coin_flip\n",
        "    \n",
        "    db_result = torch.mean(augumented_database.float()) * 2 - 0.5\n",
        "    \n",
        "    return db_result, true_result"
      ],
      "execution_count": 0,
      "outputs": []
    },
    {
      "cell_type": "code",
      "metadata": {
        "id": "S-PS7QWI6MFX",
        "colab_type": "code",
        "colab": {}
      },
      "source": [
        "#augumented_database = db.float() * first_coin_flip + (1 - first_coin_flip) * second_coin_flip"
      ],
      "execution_count": 0,
      "outputs": []
    },
    {
      "cell_type": "code",
      "metadata": {
        "id": "sBI1Qa8u6PDm",
        "colab_type": "code",
        "colab": {}
      },
      "source": [
        "#torch.mean(augmented_database.float()) * 2 - 0.5"
      ],
      "execution_count": 0,
      "outputs": []
    },
    {
      "cell_type": "code",
      "metadata": {
        "id": "IUYEzcobtJWd",
        "colab_type": "code",
        "outputId": "ee4a5e54-5190-43eb-b20d-84268bb3ae89",
        "colab": {
          "base_uri": "https://localhost:8080/",
          "height": 51
        }
      },
      "source": [
        "db, pdbs = create_db_and_parallels(10)\n",
        "private_result, true_result = query(db)\n",
        "print(\"With Noise: \"+ str(private_result))\n",
        "print(\"Without Noise: \" + str(true_result))"
      ],
      "execution_count": 0,
      "outputs": [
        {
          "output_type": "stream",
          "text": [
            "With Noise: tensor(0.5000)\n",
            "Without Noise: tensor(0.7000)\n"
          ],
          "name": "stdout"
        }
      ]
    },
    {
      "cell_type": "code",
      "metadata": {
        "id": "K3_-uvRCtJZ-",
        "colab_type": "code",
        "outputId": "1fb6c48b-594a-4f29-8dd7-2551cf106116",
        "colab": {
          "base_uri": "https://localhost:8080/",
          "height": 51
        }
      },
      "source": [
        "db, pdbs = create_db_and_parallels(100)\n",
        "private_result, true_result = query(db)\n",
        "print(\"With Noise:\" + str(private_result))\n",
        "print(\"Without Noise:\" + str(true_result))"
      ],
      "execution_count": 0,
      "outputs": [
        {
          "output_type": "stream",
          "text": [
            "With Noise:tensor(0.7200)\n",
            "Without Noise:tensor(0.5600)\n"
          ],
          "name": "stdout"
        }
      ]
    },
    {
      "cell_type": "code",
      "metadata": {
        "id": "mMXLxc66tJd6",
        "colab_type": "code",
        "outputId": "a299be17-a821-4602-f57e-60ee16594a05",
        "colab": {
          "base_uri": "https://localhost:8080/",
          "height": 51
        }
      },
      "source": [
        "db, pdbs = create_db_and_parallels(1000)\n",
        "private_result, true_result = query(db)\n",
        "print(\"With Noise:\" + str(private_result))\n",
        "print(\"Without Noise:\" + str(true_result))\n"
      ],
      "execution_count": 0,
      "outputs": [
        {
          "output_type": "stream",
          "text": [
            "With Noise:tensor(0.4020)\n",
            "Without Noise:tensor(0.4740)\n"
          ],
          "name": "stdout"
        }
      ]
    },
    {
      "cell_type": "code",
      "metadata": {
        "id": "RnOtyAUdtJje",
        "colab_type": "code",
        "outputId": "e071112b-b104-4888-b581-c23a51c5fb4d",
        "colab": {
          "base_uri": "https://localhost:8080/",
          "height": 51
        }
      },
      "source": [
        "db, pdbs = create_db_and_parallels(10000)\n",
        "private_result, true_result = query(db)\n",
        "print(\"With Noise:\" + str(private_result))\n",
        "print(\"Without Noise:\" + str(true_result))"
      ],
      "execution_count": 0,
      "outputs": [
        {
          "output_type": "stream",
          "text": [
            "With Noise:tensor(0.4868)\n",
            "Without Noise:tensor(0.4981)\n"
          ],
          "name": "stdout"
        }
      ]
    },
    {
      "cell_type": "markdown",
      "metadata": {
        "id": "6Lz_ZNSKRbg1",
        "colab_type": "text"
      },
      "source": [
        "# **Project 5: Varying Amounts of Noise**\n",
        "\n",
        "Augment the randomized response query (the one we just wrote) to allow for varying amounts of randomness to be added. Specifically, bias the coin flip to be higher or lower and then run the same experiment.\n",
        "Note - this one is a bit tricker.\n",
        "You need to both adjust the likelihood of the first coin flip AND the de-skewing at the end (where we create the \"augmented_result\" variable).\n",
        "\n"
      ]
    },
    {
      "cell_type": "code",
      "metadata": {
        "id": "Z-2tkwaHtJmW",
        "colab_type": "code",
        "colab": {}
      },
      "source": [
        "def query(db, noise=0.2):\n",
        "    true_result = torch.mean(db.float())\n",
        "    \n",
        "    first_coin_flip =(torch.rand(len(db)) > noise).float()\n",
        "    second_coin_flip = (torch.rand(len(db)) > 0.5).float()\n",
        "    \n",
        "    augmented_database = db.float() * first_coin_flip + (1 - first_coin_flip) * second_coin_flip\n",
        "    sk_result = augmented_database.float().mean()\n",
        "    private_result = ((sk_result / noise) - 0.5) * noise / (1 - noise)\n",
        "                                  \n",
        "    \n",
        "    return private_result, true_result"
      ],
      "execution_count": 0,
      "outputs": []
    },
    {
      "cell_type": "code",
      "metadata": {
        "id": "L8lpgsK-tJpT",
        "colab_type": "code",
        "outputId": "d30ca6f5-63aa-454c-8a6d-e706076c021e",
        "colab": {
          "base_uri": "https://localhost:8080/",
          "height": 51
        }
      },
      "source": [
        "db, pdbs = create_db_and_parallels(100)\n",
        "private_result, true_result = query(db, noise=0.1)\n",
        "print(\"With Noise:\" + str(private_result))\n",
        "print(\"Without Noise:\" + str(true_result))"
      ],
      "execution_count": 0,
      "outputs": [
        {
          "output_type": "stream",
          "text": [
            "With Noise:tensor(0.5556)\n",
            "Without Noise:tensor(0.5700)\n"
          ],
          "name": "stdout"
        }
      ]
    },
    {
      "cell_type": "code",
      "metadata": {
        "id": "hly3iycQtJuq",
        "colab_type": "code",
        "outputId": "d66ca477-f3b3-49c6-9b08-4c35e62d3967",
        "colab": {
          "base_uri": "https://localhost:8080/",
          "height": 51
        }
      },
      "source": [
        "db, pdbs = create_db_and_parallels(100)\n",
        "private_result, true_result = query(db, noise=0.2)\n",
        "print(\"With Noise:\" + str(private_result))\n",
        "print(\"Without Noise:\" + str(true_result))"
      ],
      "execution_count": 0,
      "outputs": [
        {
          "output_type": "stream",
          "text": [
            "With Noise:tensor(0.5125)\n",
            "Without Noise:tensor(0.4500)\n"
          ],
          "name": "stdout"
        }
      ]
    },
    {
      "cell_type": "code",
      "metadata": {
        "id": "_oj9yboutJ0U",
        "colab_type": "code",
        "outputId": "94867e3c-bb3f-406a-8bb5-5e0074b7326c",
        "colab": {
          "base_uri": "https://localhost:8080/",
          "height": 51
        }
      },
      "source": [
        "db, pdbs = create_db_and_parallels(100)\n",
        "private_result, true_result = query(db, noise=0.4)\n",
        "print(\"With Noise:\" + str(private_result))\n",
        "print(\"Without Noise:\" + str(true_result))"
      ],
      "execution_count": 0,
      "outputs": [
        {
          "output_type": "stream",
          "text": [
            "With Noise:tensor(0.5333)\n",
            "Without Noise:tensor(0.5400)\n"
          ],
          "name": "stdout"
        }
      ]
    },
    {
      "cell_type": "code",
      "metadata": {
        "id": "wAmVYasLtJ7c",
        "colab_type": "code",
        "outputId": "51e82417-065f-4df7-b063-b625ac95f4cf",
        "colab": {
          "base_uri": "https://localhost:8080/",
          "height": 51
        }
      },
      "source": [
        "db, pdbs = create_db_and_parallels(100)\n",
        "private_result, true_result = query(db, noise=0.8)\n",
        "print(\"With Noise:\" + str(private_result))\n",
        "print(\"Without Noise:\" + str(true_result))"
      ],
      "execution_count": 0,
      "outputs": [
        {
          "output_type": "stream",
          "text": [
            "With Noise:tensor(0.2000)\n",
            "Without Noise:tensor(0.4900)\n"
          ],
          "name": "stdout"
        }
      ]
    },
    {
      "cell_type": "code",
      "metadata": {
        "id": "hpiCRqKstJx8",
        "colab_type": "code",
        "outputId": "8967777e-05e4-442a-ab11-247e7d49d5f4",
        "colab": {
          "base_uri": "https://localhost:8080/",
          "height": 51
        }
      },
      "source": [
        "db, pdbs = create_db_and_parallels(10000)\n",
        "private_result, true_result = query(db, noise=0.8)\n",
        "print(\"With Noise:\" + str(private_result))\n",
        "print(\"Without Noise:\" + str(true_result))"
      ],
      "execution_count": 0,
      "outputs": [
        {
          "output_type": "stream",
          "text": [
            "With Noise:tensor(0.4960)\n",
            "Without Noise:tensor(0.4957)\n"
          ],
          "name": "stdout"
        }
      ]
    },
    {
      "cell_type": "markdown",
      "metadata": {
        "id": "tAyGyHca5GW3",
        "colab_type": "text"
      },
      "source": [
        "# Lesson: The Formal Definition of Differential Privacy\n",
        "\n",
        "The previous method of adding noise was called \"Local Differentail Privacy\" because we added noise to each datapoint individually. This is necessary for some situations wherein the data is SO sensitive that individuals do not trust noise to be added later. However, it comes at a very high cost in terms of accuracy.\n",
        "\n",
        "However, alternatively we can add noise AFTER data has been aggregated by a function. This kind of noise can allow for similar levels of protection with a lower affect on accuracy. However, participants must be able to trust that no-one looked at their datapoints before the aggregation took place. In some situations this works out well, in others (such as an individual hand-surveying a group of people), this is less realistic.\n",
        "\n",
        "Nevertheless, global differential privacy is incredibly important because it allows us to perform differential privacy on smaller groups of individuals with lower amounts of noise. Let's revisit our sum functions.\n"
      ]
    },
    {
      "cell_type": "code",
      "metadata": {
        "id": "PgQ84EDR5Vfv",
        "colab_type": "code",
        "outputId": "b0756cbe-b786-4c21-e257-23cf87aac2cd",
        "colab": {
          "base_uri": "https://localhost:8080/",
          "height": 34
        }
      },
      "source": [
        "db, pdbs = create_db_and_parallels(100)\n",
        "\n",
        "def query(db):\n",
        "    return torch.sum(db.float())\n",
        "\n",
        "def M(db):\n",
        "    query(db) + noise\n",
        "\n",
        "query(db)"
      ],
      "execution_count": 0,
      "outputs": [
        {
          "output_type": "execute_result",
          "data": {
            "text/plain": [
              "tensor(51.)"
            ]
          },
          "metadata": {
            "tags": []
          },
          "execution_count": 43
        }
      ]
    },
    {
      "cell_type": "markdown",
      "metadata": {
        "id": "Sdmc2zYN-IXH",
        "colab_type": "text"
      },
      "source": [
        "So the idea here is that we want to add noise to the output of our function. We actually have two different kinds of noise we can add - Laplacian Noise or Gaussian Noise. However, before we do so at this point we need to dive into the formal definition of Differential Privacy.\n",
        "alt text\n",
        "\n",
        "\n",
        "Image From: \"The Algorithmic Foundations of Differential Privacy\" - Cynthia Dwork and Aaron Roth - https://www.cis.upenn.edu/~aaroth/Papers/privacybook.pdf\n",
        "This definition does not create differential privacy, instead it is a measure of how much privacy is afforded by a query M. Specifically, it's a comparison between running the query M on a database (x) and a parallel database (y). As you remember, parallel databases are defined to be the same as a full database (x) with one entry/person removed.\n",
        "Thus, this definition says that FOR ALL parallel databases, the maximum distance between a query on database (x) and the same query on database (y) will be e^epsilon, but that occasionally this constraint won't hold with probability delta. Thus, this theorem is called \"epsilon delta\" differential privacy.\n",
        "Let's unpack the intuition of this for a moment.\n",
        "\n",
        "\n",
        "# Epsilon Zero: \n",
        "If a query satisfied this inequality where epsilon was set to 0, then that would mean that the query for all parallel databases outputed the exact same value as the full database. As you may remember, when we calculated the \"threshold\" function, often the Sensitivity was 0. In that case, the epsilon also happened to be zero.\n",
        "Epsilon One: If a query satisfied this inequality with epsilon 1, then the maximum distance between all queries would be 1 - or more precisely - the maximum distance between the two random distributions M(x) and M(y) is 1 (because all these queries have some amount of randomness in them, just like we observed in the last section).\n",
        "\n",
        "*   List item\n",
        "*   List item\n",
        "\n",
        "\n",
        "\n",
        "# Delta\n",
        "\n",
        "Delta is basically the probability that epsilon breaks. Namely, sometimes the epsilon is different for some queries than it is for others. For example, you may remember when we were calculating the sensitivity of threshold, most of the time sensitivity was 0 but sometimes it was 1. Thus, we could calculate this as \"epsilon zero but non-zero delta\" which would say that epsilon is perfect except for some probability of the time when it's arbitrarily higher. Note that this expression doesn't represent the full tradeoff between epsilon and delta.\n",
        "Lesson: How To Add Noise for Global Differential Privacy\n",
        "In this lesson, we're going to learn about how to take a query and add varying amounts of noise so that it satisfies a certain degree of differential privacy. In particular, we're going to leave behind the Local Differential privacy previously discussed and instead opt to focus on Global differential privacy.\n",
        "\n",
        "So, to sum up, this lesson is about adding noise to the output of our query so that it satisfies a certain epsilon-delta differential privacy threshold.\n",
        "\n",
        "There are two kinds of noise we can add - Gaussian Noise or Laplacian Noise. Generally speaking Laplacian is better, but both are still valid. Now to the hard question...\n",
        "How much noise should we add?\n",
        "The amount of noise necessary to add to the output of a query is a function of four things:\n",
        "\n",
        "\n",
        "*   the type of noise (Gaussian/Laplacian)\n",
        "*   the sensitivity of the query/function\n",
        "*   the desired epsilon (ε)\n",
        "*   the desired delta (δ)\n",
        "\n",
        "Thus, for each type of noise we're adding, we have different way of calculating how much to add as a function of sensitivity, epsilon, and delta. We're going to focus on Laplacian noise. Laplacian noise is increased/decreased according to a \"scale\" parameter b. We choose \"b\" based on the following formula.\n",
        "\n",
        "b = sensitivity(query) / epsilon\n",
        "\n",
        "In other words, if we set b to be this value, then we know that we will have a privacy leakage of <= epsilon. Furthermore, the nice thing about Laplace is that it guarantees this with delta == 0. There are some tunings where we can have very low epsilon where delta is non-zero, but we'll ignore them for now.\n",
        "**Querying Repeatedly**\n",
        "if we query the database multiple times - we can simply add the epsilons (Even if we change the amount of noise and their epsilons are not the same).\n",
        "\n",
        "# Project: Create a Differentially Private Query\n",
        "In this project, I want you to take what you learned in the previous lesson and create a query function which sums over the database and adds just the right amount of noise such that it satisfies an epsilon constraint. Write a query for both \"sum\" and for \"mean\". Ensure that you use the correct sensitivity measures for both."
      ]
    },
    {
      "cell_type": "markdown",
      "metadata": {
        "id": "gwcqWBF_-Tc3",
        "colab_type": "text"
      },
      "source": [
        ""
      ]
    },
    {
      "cell_type": "code",
      "metadata": {
        "id": "qJ7_eQJ75Vl0",
        "colab_type": "code",
        "colab": {}
      },
      "source": [
        "epsilon = 0.0001"
      ],
      "execution_count": 0,
      "outputs": []
    },
    {
      "cell_type": "code",
      "metadata": {
        "id": "fu69Nwe85VrQ",
        "colab_type": "code",
        "colab": {}
      },
      "source": [
        "import numpy as np"
      ],
      "execution_count": 0,
      "outputs": []
    },
    {
      "cell_type": "code",
      "metadata": {
        "id": "KbvywRfJ5Vw6",
        "colab_type": "code",
        "colab": {}
      },
      "source": [
        "db, pdbs = create_db_and_parallels(100)"
      ],
      "execution_count": 0,
      "outputs": []
    },
    {
      "cell_type": "code",
      "metadata": {
        "id": "2X7jDMTC5Vu4",
        "colab_type": "code",
        "colab": {}
      },
      "source": [
        "def sum_query(db):\n",
        "    return db.sum()"
      ],
      "execution_count": 0,
      "outputs": []
    },
    {
      "cell_type": "code",
      "metadata": {
        "id": "UyWzV3fu5VpU",
        "colab_type": "code",
        "colab": {}
      },
      "source": [
        "def laplacian_mechanism(db, query, sensitivity):\n",
        "    beta = sensitivity / epsilon\n",
        "    noise = torch.tensor(np.random.laplace(0, beta, 1))\n",
        "    \n",
        "    return query(db) + noise"
      ],
      "execution_count": 0,
      "outputs": []
    },
    {
      "cell_type": "code",
      "metadata": {
        "id": "SGAyo5Xc5Vjg",
        "colab_type": "code",
        "colab": {}
      },
      "source": [
        "def mean_query(db):\n",
        "    return torch.mean(db.float())"
      ],
      "execution_count": 0,
      "outputs": []
    },
    {
      "cell_type": "code",
      "metadata": {
        "id": "ltLiDAzctJs5",
        "colab_type": "code",
        "outputId": "e1faf15a-18e3-43a9-cdcc-13beb61c565a",
        "colab": {
          "base_uri": "https://localhost:8080/",
          "height": 34
        }
      },
      "source": [
        "laplacian_mechanism(db, sum_query, 1)"
      ],
      "execution_count": 0,
      "outputs": [
        {
          "output_type": "execute_result",
          "data": {
            "text/plain": [
              "tensor([-7045.1753], dtype=torch.float64)"
            ]
          },
          "metadata": {
            "tags": []
          },
          "execution_count": 62
        }
      ]
    },
    {
      "cell_type": "code",
      "metadata": {
        "id": "uEjUsYqytJhJ",
        "colab_type": "code",
        "outputId": "f9864d2d-560a-4a11-d601-e80440e9e54c",
        "colab": {
          "base_uri": "https://localhost:8080/",
          "height": 34
        }
      },
      "source": [
        "laplacian_mechanism(db, mean_query, 1/100)"
      ],
      "execution_count": 0,
      "outputs": [
        {
          "output_type": "execute_result",
          "data": {
            "text/plain": [
              "tensor([376.8618], dtype=torch.float64)"
            ]
          },
          "metadata": {
            "tags": []
          },
          "execution_count": 41
        }
      ]
    },
    {
      "cell_type": "markdown",
      "metadata": {
        "id": "Nv6FdSc5C4bf",
        "colab_type": "text"
      },
      "source": [
        "# Lesson: Differential Privacy for Deep Learning\n",
        "So in the last lessons you may have been wondering - what does all of this have to do with Deep Learning? Well, these same techniques we were just studying form the core primitives for how Differential Privacy provides guarantees in the context of Deep Learning.\n",
        "Previously, we defined perfect privacy as \"a query to a database returns the same value even if we remove any person from the database\", and used this intuition in the description of epsilon/delta. In the context of deep learning we have a similar standard.\n",
        "\n",
        "Training a model on a dataset should return the same model even if we remove any person from the dataset.\n",
        "Thus, we've replaced \"querying a database\" with \"training a model on a dataset\". In essence, the training process is a kind of query. However, one should note that this adds two points of complexity which database queries did not have:\n",
        "1. do we always know where \"people\" are referenced in the dataset?\n",
        "2. neural models rarely never train to the same output model, even on identical data\n",
        "\n",
        "The answer to (1) is to treat each training example as a single, separate person. Strictly speaking, this is often overly zealous as some training examples have no relevance to people and others may have multiple/partial (consider an image with multiple people contained within it). Thus, localizing exactly where \"people\" are referenced, and thus how much your model would change if people were removed, is challenging.\n",
        "The answer to (2) is also an open problem - but several interesitng proposals have been made. We're going to focus on one of the most popular proposals, PATE.\n"
      ]
    },
    {
      "cell_type": "markdown",
      "metadata": {
        "id": "gI3OiC-XC4YD",
        "colab_type": "text"
      },
      "source": [
        "# An Example Scenario: A Health Neural Network\n",
        "First we're going to consider a scenario - you work for a hospital and you have a large collection of images about your patients. However, you don't know what's in them. You would like to use these images to develop a neural network which can automatically classify them, however since your images aren't labeled, they aren't sufficient to train a classifier.\n",
        "\n",
        "However, being a cunning strategist, you realize that you can reach out to 10 partner hospitals which DO have annotated data. It is your hope to train your new classifier on their datasets so that you can automatically label your own. While these hospitals are interested in helping, they have privacy concerns regarding information about their patients. Thus, you will use the following technique to train a classifier which protects the privacy of patients in the other hospitals.\n",
        "\n",
        "1) You'll ask each of the 10 hospitals to train a model on their own datasets (All of which have the same kinds of labels)\n",
        "2) You'll then use each of the 10 partner models to predict on your local dataset, generating 10 labels for each of your datapoints\n",
        "3) Then, for each local data point (now with 10 labels), you will perform a DP query to generate the final true label. This query is a \"max\" function, where \"max\" is the most frequent label across the 10 labels. We will need to add laplacian noise to make this Differentially Private to a certain epsilon/delta constraint.\n",
        "4) Finally, we will retrain a new model on our local dataset which now has labels. This will be our final \"DP\" model.\n",
        "\n",
        "So, let's walk through these steps. I will assume you're already familiar with how to train/predict a deep neural network, so we'll skip steps 1 and 2 and work with example data. We'll focus instead on step 3, namely how to perform the DP query for each example using toy data.\n",
        "So, let's say we have 10,000 training examples, and we've got 10 labels for each example (from our 10 \"teacher models\" which were trained directly on private data). Each label is chosen from a set of 10 possible labels (categories) for each image."
      ]
    },
    {
      "cell_type": "code",
      "metadata": {
        "id": "xFlhy5WitJUz",
        "colab_type": "code",
        "colab": {}
      },
      "source": [
        "import numpy as np"
      ],
      "execution_count": 0,
      "outputs": []
    },
    {
      "cell_type": "code",
      "metadata": {
        "id": "Kcl9krYnDQkA",
        "colab_type": "code",
        "colab": {}
      },
      "source": [
        "num_teachers = 10 # we're working with 10 partner hospitals\n",
        "num_examples = 10000 # the size of OUR dataset\n",
        "num_labels = 10 # number of lablels for our classifier"
      ],
      "execution_count": 0,
      "outputs": []
    },
    {
      "cell_type": "code",
      "metadata": {
        "id": "UPW0-xcvDQxX",
        "colab_type": "code",
        "colab": {}
      },
      "source": [
        "preds = (np.random.rand(num_teachers, num_examples) * num_labels).astype(int).transpose(1,0) # fake predictions"
      ],
      "execution_count": 0,
      "outputs": []
    },
    {
      "cell_type": "code",
      "metadata": {
        "id": "avvdS3cqDQ1D",
        "colab_type": "code",
        "colab": {}
      },
      "source": [
        "new_labels = list()\n",
        "for an_image in preds:\n",
        "    \n",
        "    label_counts = np.bincount(an_image, minlength=num_labels)\n",
        "    \n",
        "    epsilon = 0.1\n",
        "    beta = 1 / epsilon\n",
        "    \n",
        "    for i in range(len(label_counts)):\n",
        "        label_counts[i] += np.random.laplace(0, beta, 1)\n",
        "        \n",
        "    new_label = np.argmax(label_counts)\n",
        "    \n",
        "    new_labels.append(new_label)"
      ],
      "execution_count": 0,
      "outputs": []
    },
    {
      "cell_type": "code",
      "metadata": {
        "id": "m4UuHLS5jyDd",
        "colab_type": "code",
        "outputId": "8054bba9-2e56-45c7-87f4-d5bb04b51805",
        "colab": {
          "base_uri": "https://localhost:8080/",
          "height": 17034
        }
      },
      "source": [
        "new_labels"
      ],
      "execution_count": 0,
      "outputs": [
        {
          "output_type": "execute_result",
          "data": {
            "text/plain": [
              "[0,\n",
              " 3,\n",
              " 8,\n",
              " 9,\n",
              " 5,\n",
              " 9,\n",
              " 2,\n",
              " 5,\n",
              " 5,\n",
              " 9,\n",
              " 5,\n",
              " 7,\n",
              " 5,\n",
              " 4,\n",
              " 7,\n",
              " 7,\n",
              " 1,\n",
              " 0,\n",
              " 8,\n",
              " 1,\n",
              " 1,\n",
              " 0,\n",
              " 2,\n",
              " 2,\n",
              " 2,\n",
              " 2,\n",
              " 4,\n",
              " 0,\n",
              " 9,\n",
              " 0,\n",
              " 9,\n",
              " 7,\n",
              " 9,\n",
              " 5,\n",
              " 6,\n",
              " 6,\n",
              " 7,\n",
              " 6,\n",
              " 4,\n",
              " 9,\n",
              " 8,\n",
              " 3,\n",
              " 5,\n",
              " 0,\n",
              " 3,\n",
              " 8,\n",
              " 2,\n",
              " 4,\n",
              " 3,\n",
              " 4,\n",
              " 5,\n",
              " 4,\n",
              " 9,\n",
              " 9,\n",
              " 2,\n",
              " 8,\n",
              " 5,\n",
              " 7,\n",
              " 4,\n",
              " 7,\n",
              " 3,\n",
              " 3,\n",
              " 3,\n",
              " 6,\n",
              " 8,\n",
              " 7,\n",
              " 5,\n",
              " 0,\n",
              " 6,\n",
              " 8,\n",
              " 4,\n",
              " 5,\n",
              " 6,\n",
              " 5,\n",
              " 4,\n",
              " 9,\n",
              " 7,\n",
              " 0,\n",
              " 2,\n",
              " 1,\n",
              " 9,\n",
              " 5,\n",
              " 6,\n",
              " 6,\n",
              " 3,\n",
              " 9,\n",
              " 4,\n",
              " 0,\n",
              " 7,\n",
              " 0,\n",
              " 4,\n",
              " 5,\n",
              " 2,\n",
              " 7,\n",
              " 3,\n",
              " 4,\n",
              " 2,\n",
              " 8,\n",
              " 6,\n",
              " 2,\n",
              " 8,\n",
              " 1,\n",
              " 4,\n",
              " 5,\n",
              " 2,\n",
              " 7,\n",
              " 7,\n",
              " 5,\n",
              " 9,\n",
              " 4,\n",
              " 6,\n",
              " 7,\n",
              " 0,\n",
              " 3,\n",
              " 8,\n",
              " 9,\n",
              " 6,\n",
              " 5,\n",
              " 2,\n",
              " 8,\n",
              " 7,\n",
              " 5,\n",
              " 0,\n",
              " 4,\n",
              " 9,\n",
              " 8,\n",
              " 2,\n",
              " 6,\n",
              " 0,\n",
              " 0,\n",
              " 8,\n",
              " 4,\n",
              " 5,\n",
              " 0,\n",
              " 2,\n",
              " 5,\n",
              " 0,\n",
              " 8,\n",
              " 2,\n",
              " 1,\n",
              " 7,\n",
              " 0,\n",
              " 3,\n",
              " 6,\n",
              " 2,\n",
              " 1,\n",
              " 8,\n",
              " 9,\n",
              " 7,\n",
              " 5,\n",
              " 0,\n",
              " 4,\n",
              " 2,\n",
              " 7,\n",
              " 5,\n",
              " 2,\n",
              " 2,\n",
              " 3,\n",
              " 6,\n",
              " 9,\n",
              " 2,\n",
              " 5,\n",
              " 5,\n",
              " 5,\n",
              " 1,\n",
              " 4,\n",
              " 8,\n",
              " 6,\n",
              " 3,\n",
              " 6,\n",
              " 2,\n",
              " 7,\n",
              " 7,\n",
              " 4,\n",
              " 3,\n",
              " 0,\n",
              " 6,\n",
              " 6,\n",
              " 9,\n",
              " 4,\n",
              " 3,\n",
              " 9,\n",
              " 7,\n",
              " 3,\n",
              " 7,\n",
              " 6,\n",
              " 5,\n",
              " 6,\n",
              " 9,\n",
              " 0,\n",
              " 5,\n",
              " 8,\n",
              " 5,\n",
              " 9,\n",
              " 9,\n",
              " 0,\n",
              " 2,\n",
              " 8,\n",
              " 2,\n",
              " 2,\n",
              " 4,\n",
              " 4,\n",
              " 9,\n",
              " 1,\n",
              " 2,\n",
              " 1,\n",
              " 4,\n",
              " 0,\n",
              " 0,\n",
              " 3,\n",
              " 6,\n",
              " 9,\n",
              " 3,\n",
              " 9,\n",
              " 7,\n",
              " 1,\n",
              " 4,\n",
              " 9,\n",
              " 2,\n",
              " 7,\n",
              " 6,\n",
              " 7,\n",
              " 3,\n",
              " 7,\n",
              " 8,\n",
              " 9,\n",
              " 4,\n",
              " 9,\n",
              " 4,\n",
              " 1,\n",
              " 6,\n",
              " 0,\n",
              " 0,\n",
              " 7,\n",
              " 7,\n",
              " 9,\n",
              " 3,\n",
              " 5,\n",
              " 3,\n",
              " 8,\n",
              " 7,\n",
              " 0,\n",
              " 1,\n",
              " 1,\n",
              " 8,\n",
              " 9,\n",
              " 4,\n",
              " 7,\n",
              " 0,\n",
              " 8,\n",
              " 3,\n",
              " 2,\n",
              " 6,\n",
              " 0,\n",
              " 2,\n",
              " 4,\n",
              " 2,\n",
              " 0,\n",
              " 4,\n",
              " 7,\n",
              " 4,\n",
              " 4,\n",
              " 0,\n",
              " 1,\n",
              " 6,\n",
              " 1,\n",
              " 3,\n",
              " 3,\n",
              " 9,\n",
              " 9,\n",
              " 6,\n",
              " 1,\n",
              " 0,\n",
              " 0,\n",
              " 3,\n",
              " 6,\n",
              " 4,\n",
              " 4,\n",
              " 2,\n",
              " 1,\n",
              " 2,\n",
              " 9,\n",
              " 4,\n",
              " 8,\n",
              " 3,\n",
              " 1,\n",
              " 0,\n",
              " 2,\n",
              " 6,\n",
              " 1,\n",
              " 3,\n",
              " 0,\n",
              " 9,\n",
              " 8,\n",
              " 4,\n",
              " 1,\n",
              " 4,\n",
              " 3,\n",
              " 0,\n",
              " 8,\n",
              " 2,\n",
              " 7,\n",
              " 8,\n",
              " 0,\n",
              " 0,\n",
              " 6,\n",
              " 8,\n",
              " 0,\n",
              " 3,\n",
              " 2,\n",
              " 5,\n",
              " 5,\n",
              " 3,\n",
              " 0,\n",
              " 7,\n",
              " 2,\n",
              " 9,\n",
              " 3,\n",
              " 4,\n",
              " 2,\n",
              " 2,\n",
              " 5,\n",
              " 8,\n",
              " 2,\n",
              " 9,\n",
              " 0,\n",
              " 4,\n",
              " 2,\n",
              " 0,\n",
              " 7,\n",
              " 1,\n",
              " 4,\n",
              " 1,\n",
              " 0,\n",
              " 3,\n",
              " 8,\n",
              " 3,\n",
              " 0,\n",
              " 3,\n",
              " 8,\n",
              " 6,\n",
              " 3,\n",
              " 0,\n",
              " 2,\n",
              " 9,\n",
              " 0,\n",
              " 2,\n",
              " 4,\n",
              " 3,\n",
              " 0,\n",
              " 2,\n",
              " 7,\n",
              " 5,\n",
              " 5,\n",
              " 0,\n",
              " 5,\n",
              " 3,\n",
              " 0,\n",
              " 1,\n",
              " 3,\n",
              " 1,\n",
              " 1,\n",
              " 7,\n",
              " 8,\n",
              " 3,\n",
              " 8,\n",
              " 0,\n",
              " 8,\n",
              " 7,\n",
              " 6,\n",
              " 3,\n",
              " 8,\n",
              " 5,\n",
              " 2,\n",
              " 8,\n",
              " 9,\n",
              " 8,\n",
              " 5,\n",
              " 4,\n",
              " 6,\n",
              " 3,\n",
              " 7,\n",
              " 9,\n",
              " 6,\n",
              " 2,\n",
              " 7,\n",
              " 8,\n",
              " 0,\n",
              " 2,\n",
              " 2,\n",
              " 5,\n",
              " 4,\n",
              " 8,\n",
              " 7,\n",
              " 3,\n",
              " 0,\n",
              " 9,\n",
              " 9,\n",
              " 1,\n",
              " 4,\n",
              " 9,\n",
              " 1,\n",
              " 6,\n",
              " 1,\n",
              " 7,\n",
              " 2,\n",
              " 4,\n",
              " 0,\n",
              " 9,\n",
              " 7,\n",
              " 0,\n",
              " 5,\n",
              " 1,\n",
              " 9,\n",
              " 3,\n",
              " 6,\n",
              " 7,\n",
              " 3,\n",
              " 7,\n",
              " 0,\n",
              " 9,\n",
              " 9,\n",
              " 3,\n",
              " 4,\n",
              " 5,\n",
              " 9,\n",
              " 9,\n",
              " 7,\n",
              " 1,\n",
              " 5,\n",
              " 6,\n",
              " 5,\n",
              " 2,\n",
              " 1,\n",
              " 4,\n",
              " 8,\n",
              " 1,\n",
              " 1,\n",
              " 5,\n",
              " 6,\n",
              " 9,\n",
              " 5,\n",
              " 8,\n",
              " 6,\n",
              " 4,\n",
              " 7,\n",
              " 0,\n",
              " 7,\n",
              " 1,\n",
              " 8,\n",
              " 7,\n",
              " 5,\n",
              " 1,\n",
              " 0,\n",
              " 3,\n",
              " 5,\n",
              " 5,\n",
              " 2,\n",
              " 2,\n",
              " 4,\n",
              " 6,\n",
              " 3,\n",
              " 2,\n",
              " 8,\n",
              " 5,\n",
              " 5,\n",
              " 3,\n",
              " 2,\n",
              " 0,\n",
              " 1,\n",
              " 2,\n",
              " 5,\n",
              " 0,\n",
              " 0,\n",
              " 8,\n",
              " 9,\n",
              " 1,\n",
              " 1,\n",
              " 6,\n",
              " 0,\n",
              " 3,\n",
              " 2,\n",
              " 6,\n",
              " 3,\n",
              " 8,\n",
              " 7,\n",
              " 4,\n",
              " 7,\n",
              " 1,\n",
              " 6,\n",
              " 9,\n",
              " 3,\n",
              " 5,\n",
              " 8,\n",
              " 8,\n",
              " 6,\n",
              " 0,\n",
              " 1,\n",
              " 2,\n",
              " 8,\n",
              " 0,\n",
              " 2,\n",
              " 4,\n",
              " 4,\n",
              " 0,\n",
              " 4,\n",
              " 7,\n",
              " 0,\n",
              " 6,\n",
              " 1,\n",
              " 2,\n",
              " 5,\n",
              " 7,\n",
              " 5,\n",
              " 8,\n",
              " 8,\n",
              " 9,\n",
              " 4,\n",
              " 5,\n",
              " 0,\n",
              " 4,\n",
              " 1,\n",
              " 6,\n",
              " 9,\n",
              " 6,\n",
              " 1,\n",
              " 6,\n",
              " 8,\n",
              " 6,\n",
              " 6,\n",
              " 8,\n",
              " 8,\n",
              " 9,\n",
              " 5,\n",
              " 1,\n",
              " 0,\n",
              " 0,\n",
              " 4,\n",
              " 8,\n",
              " 0,\n",
              " 7,\n",
              " 0,\n",
              " 7,\n",
              " 4,\n",
              " 5,\n",
              " 5,\n",
              " 3,\n",
              " 6,\n",
              " 3,\n",
              " 4,\n",
              " 1,\n",
              " 7,\n",
              " 4,\n",
              " 1,\n",
              " 3,\n",
              " 4,\n",
              " 2,\n",
              " 4,\n",
              " 4,\n",
              " 7,\n",
              " 3,\n",
              " 8,\n",
              " 3,\n",
              " 9,\n",
              " 3,\n",
              " 0,\n",
              " 2,\n",
              " 9,\n",
              " 9,\n",
              " 4,\n",
              " 3,\n",
              " 4,\n",
              " 3,\n",
              " 7,\n",
              " 1,\n",
              " 0,\n",
              " 2,\n",
              " 3,\n",
              " 5,\n",
              " 9,\n",
              " 7,\n",
              " 8,\n",
              " 4,\n",
              " 5,\n",
              " 5,\n",
              " 3,\n",
              " 6,\n",
              " 1,\n",
              " 6,\n",
              " 2,\n",
              " 3,\n",
              " 1,\n",
              " 2,\n",
              " 2,\n",
              " 1,\n",
              " 4,\n",
              " 9,\n",
              " 4,\n",
              " 1,\n",
              " 3,\n",
              " 6,\n",
              " 9,\n",
              " 5,\n",
              " 9,\n",
              " 9,\n",
              " 9,\n",
              " 0,\n",
              " 7,\n",
              " 1,\n",
              " 9,\n",
              " 4,\n",
              " 5,\n",
              " 6,\n",
              " 6,\n",
              " 2,\n",
              " 3,\n",
              " 1,\n",
              " 8,\n",
              " 7,\n",
              " 8,\n",
              " 5,\n",
              " 9,\n",
              " 4,\n",
              " 1,\n",
              " 0,\n",
              " 5,\n",
              " 2,\n",
              " 9,\n",
              " 0,\n",
              " 2,\n",
              " 2,\n",
              " 6,\n",
              " 6,\n",
              " 9,\n",
              " 7,\n",
              " 0,\n",
              " 4,\n",
              " 9,\n",
              " 7,\n",
              " 8,\n",
              " 3,\n",
              " 4,\n",
              " 9,\n",
              " 2,\n",
              " 1,\n",
              " 0,\n",
              " 2,\n",
              " 3,\n",
              " 9,\n",
              " 8,\n",
              " 6,\n",
              " 0,\n",
              " 9,\n",
              " 9,\n",
              " 4,\n",
              " 7,\n",
              " 9,\n",
              " 2,\n",
              " 5,\n",
              " 3,\n",
              " 2,\n",
              " 3,\n",
              " 9,\n",
              " 1,\n",
              " 8,\n",
              " 8,\n",
              " 7,\n",
              " 3,\n",
              " 2,\n",
              " 8,\n",
              " 3,\n",
              " 9,\n",
              " 0,\n",
              " 6,\n",
              " 5,\n",
              " 2,\n",
              " 7,\n",
              " 8,\n",
              " 3,\n",
              " 0,\n",
              " 1,\n",
              " 3,\n",
              " 9,\n",
              " 7,\n",
              " 3,\n",
              " 9,\n",
              " 9,\n",
              " 6,\n",
              " 8,\n",
              " 7,\n",
              " 1,\n",
              " 4,\n",
              " 8,\n",
              " 3,\n",
              " 4,\n",
              " 1,\n",
              " 1,\n",
              " 5,\n",
              " 7,\n",
              " 1,\n",
              " 0,\n",
              " 2,\n",
              " 8,\n",
              " 8,\n",
              " 8,\n",
              " 7,\n",
              " 7,\n",
              " 8,\n",
              " 1,\n",
              " 4,\n",
              " 4,\n",
              " 4,\n",
              " 9,\n",
              " 7,\n",
              " 7,\n",
              " 1,\n",
              " 7,\n",
              " 0,\n",
              " 8,\n",
              " 8,\n",
              " 6,\n",
              " 3,\n",
              " 4,\n",
              " 0,\n",
              " 6,\n",
              " 6,\n",
              " 0,\n",
              " 7,\n",
              " 5,\n",
              " 2,\n",
              " 7,\n",
              " 7,\n",
              " 6,\n",
              " 7,\n",
              " 1,\n",
              " 8,\n",
              " 9,\n",
              " 2,\n",
              " 2,\n",
              " 2,\n",
              " 0,\n",
              " 8,\n",
              " 8,\n",
              " 9,\n",
              " 0,\n",
              " 3,\n",
              " 5,\n",
              " 6,\n",
              " 8,\n",
              " 8,\n",
              " 6,\n",
              " 6,\n",
              " 8,\n",
              " 3,\n",
              " 6,\n",
              " 4,\n",
              " 7,\n",
              " 0,\n",
              " 4,\n",
              " 9,\n",
              " 6,\n",
              " 0,\n",
              " 2,\n",
              " 2,\n",
              " 4,\n",
              " 3,\n",
              " 4,\n",
              " 8,\n",
              " 1,\n",
              " 3,\n",
              " 3,\n",
              " 7,\n",
              " 7,\n",
              " 0,\n",
              " 3,\n",
              " 3,\n",
              " 5,\n",
              " 1,\n",
              " 3,\n",
              " 9,\n",
              " 0,\n",
              " 8,\n",
              " 8,\n",
              " 6,\n",
              " 3,\n",
              " 2,\n",
              " 0,\n",
              " 7,\n",
              " 9,\n",
              " 4,\n",
              " 7,\n",
              " 2,\n",
              " 7,\n",
              " 0,\n",
              " 1,\n",
              " 2,\n",
              " 5,\n",
              " 8,\n",
              " 9,\n",
              " 5,\n",
              " 4,\n",
              " 8,\n",
              " 0,\n",
              " 4,\n",
              " 4,\n",
              " 3,\n",
              " 2,\n",
              " 2,\n",
              " 0,\n",
              " 8,\n",
              " 8,\n",
              " 8,\n",
              " 3,\n",
              " 2,\n",
              " 8,\n",
              " 2,\n",
              " 2,\n",
              " 2,\n",
              " 9,\n",
              " 0,\n",
              " 0,\n",
              " 3,\n",
              " 8,\n",
              " 3,\n",
              " 7,\n",
              " 0,\n",
              " 7,\n",
              " 4,\n",
              " 8,\n",
              " 8,\n",
              " 6,\n",
              " 5,\n",
              " 5,\n",
              " 3,\n",
              " 7,\n",
              " 1,\n",
              " 3,\n",
              " 3,\n",
              " 8,\n",
              " 5,\n",
              " 7,\n",
              " 2,\n",
              " 6,\n",
              " 8,\n",
              " 2,\n",
              " 0,\n",
              " 4,\n",
              " 0,\n",
              " 6,\n",
              " 5,\n",
              " 7,\n",
              " 1,\n",
              " 0,\n",
              " 7,\n",
              " 2,\n",
              " 0,\n",
              " 1,\n",
              " 4,\n",
              " 0,\n",
              " 9,\n",
              " 9,\n",
              " 8,\n",
              " 5,\n",
              " 0,\n",
              " 6,\n",
              " 8,\n",
              " 3,\n",
              " 7,\n",
              " 3,\n",
              " 8,\n",
              " 4,\n",
              " 7,\n",
              " 6,\n",
              " 8,\n",
              " 7,\n",
              " 7,\n",
              " 7,\n",
              " 0,\n",
              " 8,\n",
              " 8,\n",
              " 1,\n",
              " 3,\n",
              " 4,\n",
              " 2,\n",
              " 0,\n",
              " 5,\n",
              " 5,\n",
              " 9,\n",
              " 6,\n",
              " 7,\n",
              " 2,\n",
              " 2,\n",
              " 8,\n",
              " 6,\n",
              " 8,\n",
              " 8,\n",
              " 5,\n",
              " 6,\n",
              " 7,\n",
              " 2,\n",
              " 8,\n",
              " 1,\n",
              " 2,\n",
              " 1,\n",
              " 1,\n",
              " 9,\n",
              " 1,\n",
              " 1,\n",
              " 1,\n",
              " 5,\n",
              " 7,\n",
              " 5,\n",
              " 5,\n",
              " 0,\n",
              " 5,\n",
              " 5,\n",
              " 6,\n",
              " 8,\n",
              " 8,\n",
              " 4,\n",
              " 9,\n",
              " 3,\n",
              " 7,\n",
              " 6,\n",
              " 2,\n",
              " 8,\n",
              " 5,\n",
              " 8,\n",
              " 2,\n",
              " 3,\n",
              " 0,\n",
              " 7,\n",
              " 8,\n",
              " 0,\n",
              " 0,\n",
              " 4,\n",
              " 9,\n",
              " 9,\n",
              " 6,\n",
              " 2,\n",
              " 5,\n",
              " 8,\n",
              " 0,\n",
              " 2,\n",
              " 4,\n",
              " 3,\n",
              " 6,\n",
              " 5,\n",
              " 0,\n",
              " 8,\n",
              " 3,\n",
              " 0,\n",
              " 5,\n",
              " 0,\n",
              " 2,\n",
              " 2,\n",
              " 3,\n",
              " 6,\n",
              " 7,\n",
              " 7,\n",
              " 6,\n",
              " 4,\n",
              " 6,\n",
              " 2,\n",
              " 5,\n",
              " 2,\n",
              " 5,\n",
              " 2,\n",
              " 3,\n",
              " 8,\n",
              " 2,\n",
              " 1,\n",
              " 3,\n",
              " 5,\n",
              " 1,\n",
              " 7,\n",
              " 7,\n",
              " 6,\n",
              " 5,\n",
              " 0,\n",
              " 5,\n",
              " 9,\n",
              " 7,\n",
              " 4,\n",
              " 9,\n",
              " 9,\n",
              " 0,\n",
              " 9,\n",
              " 0,\n",
              " 2,\n",
              " 8,\n",
              " 2,\n",
              " 0,\n",
              " 8,\n",
              " 2,\n",
              " 7,\n",
              " 9,\n",
              " 8,\n",
              " 9,\n",
              " 7,\n",
              " ...]"
            ]
          },
          "metadata": {
            "tags": []
          },
          "execution_count": 46
        }
      ]
    },
    {
      "cell_type": "markdown",
      "metadata": {
        "id": "hKYRr8D2EIMu",
        "colab_type": "text"
      },
      "source": [
        "# PATE Analysis"
      ]
    },
    {
      "cell_type": "code",
      "metadata": {
        "id": "mA0nkSdTDQuv",
        "colab_type": "code",
        "outputId": "156077f1-25d8-40c7-e364-0162b42a6cc2",
        "colab": {
          "base_uri": "https://localhost:8080/",
          "height": 34
        }
      },
      "source": [
        "labels = np.array([9, 9, 3, 6, 9, 9, 9, 9, 8, 2])\n",
        "counts = np.bincount(labels, minlength=10)\n",
        "query_result = np.argmax(counts)\n",
        "query_result"
      ],
      "execution_count": 0,
      "outputs": [
        {
          "output_type": "execute_result",
          "data": {
            "text/plain": [
              "9"
            ]
          },
          "metadata": {
            "tags": []
          },
          "execution_count": 47
        }
      ]
    },
    {
      "cell_type": "code",
      "metadata": {
        "id": "KN2PespBEn4t",
        "colab_type": "code",
        "outputId": "34365a13-6897-4d96-9540-65f3fa8613ce",
        "colab": {
          "base_uri": "https://localhost:8080/",
          "height": 1312
        }
      },
      "source": [
        "#!pip install syft"
      ],
      "execution_count": 0,
      "outputs": [
        {
          "output_type": "stream",
          "text": [
            "Collecting syft\n",
            "\u001b[?25l  Downloading https://files.pythonhosted.org/packages/1d/f4/ed95c5f6664d37a70c345f41e1bdceadc5efb2f478e2c6cd4de34f3a709a/syft-0.1.18-py3-none-any.whl (186kB)\n",
            "\u001b[K     |████████████████████████████████| 194kB 3.5MB/s \n",
            "\u001b[?25hCollecting lz4 (from syft)\n",
            "\u001b[?25l  Downloading https://files.pythonhosted.org/packages/0a/c6/96bbb3525a63ebc53ea700cc7d37ab9045542d33b4d262d0f0408ad9bbf2/lz4-2.1.10-cp36-cp36m-manylinux1_x86_64.whl (385kB)\n",
            "\u001b[K     |████████████████████████████████| 389kB 54.6MB/s \n",
            "\u001b[?25hRequirement already satisfied: tblib in /usr/local/lib/python3.6/dist-packages (from syft) (1.4.0)\n",
            "Requirement already satisfied: torch>=1.1 in /usr/local/lib/python3.6/dist-packages (from syft) (1.1.0)\n",
            "Requirement already satisfied: Flask in /usr/local/lib/python3.6/dist-packages (from syft) (1.0.3)\n",
            "Requirement already satisfied: sklearn in /usr/local/lib/python3.6/dist-packages (from syft) (0.0)\n",
            "Collecting tf-encrypted>=0.5.4 (from syft)\n",
            "\u001b[?25l  Downloading https://files.pythonhosted.org/packages/07/ce/da9916e7e78f736894b15538b702c0b213fd5d60a7fd6e481d74033a90c0/tf_encrypted-0.5.6-py3-none-manylinux1_x86_64.whl (1.4MB)\n",
            "\u001b[K     |████████████████████████████████| 1.4MB 52.5MB/s \n",
            "\u001b[?25hRequirement already satisfied: torchvision>=0.3.0 in /usr/local/lib/python3.6/dist-packages (from syft) (0.3.0)\n",
            "Collecting flask-socketio (from syft)\n",
            "  Downloading https://files.pythonhosted.org/packages/4b/68/fe4806d3a0a5909d274367eb9b3b87262906c1515024f46c2443a36a0c82/Flask_SocketIO-4.1.0-py2.py3-none-any.whl\n",
            "Requirement already satisfied: msgpack in /usr/local/lib/python3.6/dist-packages (from syft) (0.5.6)\n",
            "Collecting zstd (from syft)\n",
            "\u001b[?25l  Downloading https://files.pythonhosted.org/packages/8e/27/1ea8086d37424e83ab692015cc8dd7d5e37cf791e339633a40dc828dfb74/zstd-1.4.0.0.tar.gz (450kB)\n",
            "\u001b[K     |████████████████████████████████| 450kB 51.4MB/s \n",
            "\u001b[?25hCollecting websocket-client (from syft)\n",
            "\u001b[?25l  Downloading https://files.pythonhosted.org/packages/29/19/44753eab1fdb50770ac69605527e8859468f3c0fd7dc5a76dd9c4dbd7906/websocket_client-0.56.0-py2.py3-none-any.whl (200kB)\n",
            "\u001b[K     |████████████████████████████████| 204kB 57.4MB/s \n",
            "\u001b[?25hCollecting websockets>=7.0 (from syft)\n",
            "\u001b[?25l  Downloading https://files.pythonhosted.org/packages/43/71/8bfa882b9c502c36e5c9ef6732969533670d2b039cbf95a82ced8f762b80/websockets-7.0-cp36-cp36m-manylinux1_x86_64.whl (63kB)\n",
            "\u001b[K     |████████████████████████████████| 71kB 36.1MB/s \n",
            "\u001b[?25hRequirement already satisfied: numpy in /usr/local/lib/python3.6/dist-packages (from torch>=1.1->syft) (1.16.4)\n",
            "Requirement already satisfied: Jinja2>=2.10 in /usr/local/lib/python3.6/dist-packages (from Flask->syft) (2.10.1)\n",
            "Requirement already satisfied: click>=5.1 in /usr/local/lib/python3.6/dist-packages (from Flask->syft) (7.0)\n",
            "Requirement already satisfied: itsdangerous>=0.24 in /usr/local/lib/python3.6/dist-packages (from Flask->syft) (1.1.0)\n",
            "Requirement already satisfied: Werkzeug>=0.14 in /usr/local/lib/python3.6/dist-packages (from Flask->syft) (0.15.4)\n",
            "Requirement already satisfied: scikit-learn in /usr/local/lib/python3.6/dist-packages (from sklearn->syft) (0.21.2)\n",
            "Requirement already satisfied: tensorflow<2,>=1.12.0 in /usr/local/lib/python3.6/dist-packages (from tf-encrypted>=0.5.4->syft) (1.14.0rc1)\n",
            "Collecting pyyaml>=5.1 (from tf-encrypted>=0.5.4->syft)\n",
            "\u001b[?25l  Downloading https://files.pythonhosted.org/packages/a3/65/837fefac7475963d1eccf4aa684c23b95aa6c1d033a2c5965ccb11e22623/PyYAML-5.1.1.tar.gz (274kB)\n",
            "\u001b[K     |████████████████████████████████| 276kB 61.0MB/s \n",
            "\u001b[?25hRequirement already satisfied: pillow>=4.1.1 in /usr/local/lib/python3.6/dist-packages (from torchvision>=0.3.0->syft) (4.3.0)\n",
            "Requirement already satisfied: six in /usr/local/lib/python3.6/dist-packages (from torchvision>=0.3.0->syft) (1.12.0)\n",
            "Collecting python-socketio>=2.1.0 (from flask-socketio->syft)\n",
            "\u001b[?25l  Downloading https://files.pythonhosted.org/packages/c8/e0/a875abbb0f9d70c6e2ec2019ca9e3893377cef5deca6225ead3497000152/python_socketio-4.1.0-py2.py3-none-any.whl (46kB)\n",
            "\u001b[K     |████████████████████████████████| 51kB 15.3MB/s \n",
            "\u001b[?25hRequirement already satisfied: MarkupSafe>=0.23 in /usr/local/lib/python3.6/dist-packages (from Jinja2>=2.10->Flask->syft) (1.1.1)\n",
            "Requirement already satisfied: joblib>=0.11 in /usr/local/lib/python3.6/dist-packages (from scikit-learn->sklearn->syft) (0.13.2)\n",
            "Requirement already satisfied: scipy>=0.17.0 in /usr/local/lib/python3.6/dist-packages (from scikit-learn->sklearn->syft) (1.3.0)\n",
            "Requirement already satisfied: keras-preprocessing>=1.0.5 in /usr/local/lib/python3.6/dist-packages (from tensorflow<2,>=1.12.0->tf-encrypted>=0.5.4->syft) (1.1.0)\n",
            "Requirement already satisfied: termcolor>=1.1.0 in /usr/local/lib/python3.6/dist-packages (from tensorflow<2,>=1.12.0->tf-encrypted>=0.5.4->syft) (1.1.0)\n",
            "Requirement already satisfied: google-pasta>=0.1.6 in /usr/local/lib/python3.6/dist-packages (from tensorflow<2,>=1.12.0->tf-encrypted>=0.5.4->syft) (0.1.7)\n",
            "Requirement already satisfied: tensorflow-estimator<1.15.0rc0,>=1.14.0rc0 in /usr/local/lib/python3.6/dist-packages (from tensorflow<2,>=1.12.0->tf-encrypted>=0.5.4->syft) (1.14.0rc1)\n",
            "Requirement already satisfied: absl-py>=0.7.0 in /usr/local/lib/python3.6/dist-packages (from tensorflow<2,>=1.12.0->tf-encrypted>=0.5.4->syft) (0.7.1)\n",
            "Requirement already satisfied: protobuf>=3.6.1 in /usr/local/lib/python3.6/dist-packages (from tensorflow<2,>=1.12.0->tf-encrypted>=0.5.4->syft) (3.7.1)\n",
            "Requirement already satisfied: wrapt>=1.11.1 in /usr/local/lib/python3.6/dist-packages (from tensorflow<2,>=1.12.0->tf-encrypted>=0.5.4->syft) (1.11.1)\n",
            "Requirement already satisfied: wheel>=0.26 in /usr/local/lib/python3.6/dist-packages (from tensorflow<2,>=1.12.0->tf-encrypted>=0.5.4->syft) (0.33.4)\n",
            "Requirement already satisfied: tensorboard<1.14.0,>=1.13.0 in /usr/local/lib/python3.6/dist-packages (from tensorflow<2,>=1.12.0->tf-encrypted>=0.5.4->syft) (1.13.1)\n",
            "Requirement already satisfied: gast>=0.2.0 in /usr/local/lib/python3.6/dist-packages (from tensorflow<2,>=1.12.0->tf-encrypted>=0.5.4->syft) (0.2.2)\n",
            "Requirement already satisfied: astor>=0.6.0 in /usr/local/lib/python3.6/dist-packages (from tensorflow<2,>=1.12.0->tf-encrypted>=0.5.4->syft) (0.8.0)\n",
            "Requirement already satisfied: grpcio>=1.8.6 in /usr/local/lib/python3.6/dist-packages (from tensorflow<2,>=1.12.0->tf-encrypted>=0.5.4->syft) (1.15.0)\n",
            "Requirement already satisfied: keras-applications>=1.0.6 in /usr/local/lib/python3.6/dist-packages (from tensorflow<2,>=1.12.0->tf-encrypted>=0.5.4->syft) (1.0.8)\n",
            "Requirement already satisfied: olefile in /usr/local/lib/python3.6/dist-packages (from pillow>=4.1.1->torchvision>=0.3.0->syft) (0.46)\n",
            "Collecting python-engineio>=3.8.0 (from python-socketio>=2.1.0->flask-socketio->syft)\n",
            "\u001b[?25l  Downloading https://files.pythonhosted.org/packages/9c/d3/de0fa7ebebd054de308e6ac397bf9e11ea42924795a38005a21ea001b114/python_engineio-3.8.1-py2.py3-none-any.whl (119kB)\n",
            "\u001b[K     |████████████████████████████████| 122kB 53.8MB/s \n",
            "\u001b[?25hRequirement already satisfied: setuptools in /usr/local/lib/python3.6/dist-packages (from protobuf>=3.6.1->tensorflow<2,>=1.12.0->tf-encrypted>=0.5.4->syft) (41.0.1)\n",
            "Requirement already satisfied: markdown>=2.6.8 in /usr/local/lib/python3.6/dist-packages (from tensorboard<1.14.0,>=1.13.0->tensorflow<2,>=1.12.0->tf-encrypted>=0.5.4->syft) (3.1.1)\n",
            "Requirement already satisfied: h5py in /usr/local/lib/python3.6/dist-packages (from keras-applications>=1.0.6->tensorflow<2,>=1.12.0->tf-encrypted>=0.5.4->syft) (2.8.0)\n",
            "Building wheels for collected packages: zstd, pyyaml\n",
            "  Building wheel for zstd (setup.py) ... \u001b[?25l\u001b[?25hdone\n",
            "  Stored in directory: /root/.cache/pip/wheels/ad/9a/f4/3105b5209674ac77fcca7fede95184c62a95df0196888e0e76\n",
            "  Building wheel for pyyaml (setup.py) ... \u001b[?25l\u001b[?25hdone\n",
            "  Stored in directory: /root/.cache/pip/wheels/16/27/a1/775c62ddea7bfa62324fd1f65847ed31c55dadb6051481ba3f\n",
            "Successfully built zstd pyyaml\n",
            "Installing collected packages: lz4, pyyaml, tf-encrypted, python-engineio, python-socketio, flask-socketio, zstd, websocket-client, websockets, syft\n",
            "  Found existing installation: PyYAML 3.13\n",
            "    Uninstalling PyYAML-3.13:\n",
            "      Successfully uninstalled PyYAML-3.13\n",
            "Successfully installed flask-socketio-4.1.0 lz4-2.1.10 python-engineio-3.8.1 python-socketio-4.1.0 pyyaml-5.1.1 syft-0.1.18 tf-encrypted-0.5.6 websocket-client-0.56.0 websockets-7.0 zstd-1.4.0.0\n"
          ],
          "name": "stdout"
        }
      ]
    },
    {
      "cell_type": "code",
      "metadata": {
        "id": "RojDYUHBDQsL",
        "colab_type": "code",
        "outputId": "980f7c79-943b-4491-ca60-bccf7159d4e2",
        "colab": {
          "base_uri": "https://localhost:8080/",
          "height": 105
        }
      },
      "source": [
        "from syft.frameworks.torch.differential_privacy import pate"
      ],
      "execution_count": 0,
      "outputs": [
        {
          "output_type": "stream",
          "text": [
            "WARNING: Logging before flag parsing goes to stderr.\n",
            "W0623 13:43:03.848930 139767631591296 secure_random.py:26] Falling back to insecure randomness since the required custom op could not be found for the installed version of TensorFlow. Fix this by compiling custom ops. Missing file was '/usr/local/lib/python3.6/dist-packages/tf_encrypted/operations/secure_random/secure_random_module_tf_1.14.0-rc1.so'\n",
            "W0623 13:43:03.968235 139767631591296 deprecation_wrapper.py:119] From /usr/local/lib/python3.6/dist-packages/tf_encrypted/session.py:26: The name tf.Session is deprecated. Please use tf.compat.v1.Session instead.\n",
            "\n"
          ],
          "name": "stderr"
        }
      ]
    },
    {
      "cell_type": "code",
      "metadata": {
        "id": "whfSptkoDQpt",
        "colab_type": "code",
        "outputId": "7f2d5ec6-318b-4fce-d0fc-62fd3417b941",
        "colab": {
          "base_uri": "https://localhost:8080/",
          "height": 54
        }
      },
      "source": [
        "num_teachers, num_examples, num_labels = (100, 100, 10)\n",
        "preds = (np.random.rand(num_teachers, num_examples) * num_labels).astype(int) #fake preds\n",
        "indices = (np.random.rand(num_examples) * num_labels).astype(int) # true answers\n",
        "\n",
        "preds[:,0:10] *= 0\n",
        "\n",
        "data_dep_eps, data_ind_eps = pate.perform_analysis(teacher_preds=preds, indices=indices, noise_eps=0.1, delta=1e-5)\n",
        "\n",
        "assert data_dep_eps < data_ind_eps"
      ],
      "execution_count": 0,
      "outputs": [
        {
          "output_type": "stream",
          "text": [
            "Warning: May not have used enough values of l. Increase 'moments' variable and run again.\n"
          ],
          "name": "stdout"
        }
      ]
    },
    {
      "cell_type": "code",
      "metadata": {
        "id": "BroSXYwWDQnd",
        "colab_type": "code",
        "outputId": "4935c6ac-fb6b-4a55-96d7-ddabf378b732",
        "colab": {
          "base_uri": "https://localhost:8080/",
          "height": 88
        }
      },
      "source": [
        "data_dep_eps, data_ind_eps = pate.perform_analysis(teacher_preds=preds, indices=indices, noise_eps=0.1, delta=1e-5)\n",
        "print(\"Data Independent Epsilon:\", data_ind_eps)\n",
        "print(\"Data Dependent Epsilon:\", data_dep_eps)"
      ],
      "execution_count": 0,
      "outputs": [
        {
          "output_type": "stream",
          "text": [
            "Warning: May not have used enough values of l. Increase 'moments' variable and run again.\n",
            "Data Independent Epsilon: 11.756462732485115\n",
            "Data Dependent Epsilon: 1.52655213289881\n"
          ],
          "name": "stdout"
        }
      ]
    },
    {
      "cell_type": "code",
      "metadata": {
        "id": "-t2lBmDWF6eY",
        "colab_type": "code",
        "colab": {}
      },
      "source": [
        "preds[:,0:50] *= 0"
      ],
      "execution_count": 0,
      "outputs": []
    },
    {
      "cell_type": "code",
      "metadata": {
        "id": "gnq_Ra-jF6jf",
        "colab_type": "code",
        "outputId": "f937a88d-cbe8-4d78-ee9c-b35246de99f9",
        "colab": {
          "base_uri": "https://localhost:8080/",
          "height": 51
        }
      },
      "source": [
        "data_dep_eps, data_ind_eps = pate.perform_analysis(teacher_preds=preds, indices=indices, noise_eps=0.1, delta=1e-5, moments=20)\n",
        "print(\"Data Independent Epsilon:\", data_ind_eps)\n",
        "print(\"Data Dependent Epsilon:\", data_dep_eps)"
      ],
      "execution_count": 0,
      "outputs": [
        {
          "output_type": "stream",
          "text": [
            "Data Independent Epsilon: 11.756462732485115\n",
            "Data Dependent Epsilon: 0.9029013677789843\n"
          ],
          "name": "stdout"
        }
      ]
    },
    {
      "cell_type": "markdown",
      "metadata": {
        "id": "c_3iS9efGZDM",
        "colab_type": "text"
      },
      "source": [
        "# Where to Go From Here\n",
        "**Read:**\n",
        "- Algorithmic Foundations of Differential Privacy: https://www.cis.upenn.edu/~aaroth/Papers/privacybook.pdf\n",
        "- Deep Learning with Differential Privacy: https://arxiv.org/pdf/1607.00133.pdf\n",
        "- The Ethical Algorithm: https://www.amazon.com/Ethical-Algorithm-Science-Socially-Design/dp/0190948205\n",
        "\n",
        "# Topics: \n",
        "- The Exponential Mechanism\n",
        "- The Moment's Accountant\n",
        "- Differentially Private Stochastic Gradient Descent\n",
        "\n",
        "# Advice:\n",
        "- For deployments - stick with public frameworks!\n",
        "- Join the Differential Privacy Community\n",
        "- Don't get ahead of yourself - DP is still in the early days"
      ]
    },
    {
      "cell_type": "markdown",
      "metadata": {
        "id": "wQBoqOX0GnEX",
        "colab_type": "text"
      },
      "source": [
        "# Section Project:\n",
        "For the final project for this section, you're going to be given a dataset which you need to use to train a DP model using this PATE method."
      ]
    },
    {
      "cell_type": "code",
      "metadata": {
        "id": "dahhYvyLF6nh",
        "colab_type": "code",
        "colab": {}
      },
      "source": [
        ""
      ],
      "execution_count": 0,
      "outputs": []
    },
    {
      "cell_type": "code",
      "metadata": {
        "id": "7sDA-9-HF6tU",
        "colab_type": "code",
        "colab": {}
      },
      "source": [
        ""
      ],
      "execution_count": 0,
      "outputs": []
    },
    {
      "cell_type": "code",
      "metadata": {
        "id": "MWR5k5ovF6yo",
        "colab_type": "code",
        "colab": {}
      },
      "source": [
        ""
      ],
      "execution_count": 0,
      "outputs": []
    }
  ]
}