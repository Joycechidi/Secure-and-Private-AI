{
  "nbformat": 4,
  "nbformat_minor": 0,
  "metadata": {
    "colab": {
      "name": "intro_to_single_layer_nn.py.ipynb",
      "version": "0.3.2",
      "provenance": [],
      "include_colab_link": true
    },
    "language_info": {
      "codemirror_mode": {
        "name": "ipython",
        "version": 3
      },
      "file_extension": ".py",
      "mimetype": "text/x-python",
      "name": "python",
      "nbconvert_exporter": "python",
      "pygments_lexer": "ipython3",
      "version": "3.6.4"
    },
    "kernelspec": {
      "display_name": "Python 3",
      "language": "python",
      "name": "python3"
    }
  },
  "cells": [
    {
      "cell_type": "markdown",
      "metadata": {
        "id": "view-in-github",
        "colab_type": "text"
      },
      "source": [
        "<a href=\"https://colab.research.google.com/github/Joycechidi/Secure-and-Private-AI/blob/master/intro_to_single_layer_nn_py.ipynb\" target=\"_parent\"><img src=\"https://colab.research.google.com/assets/colab-badge.svg\" alt=\"Open In Colab\"/></a>"
      ]
    },
    {
      "cell_type": "code",
      "metadata": {
        "id": "IRVz74CsTCol",
        "colab_type": "code",
        "colab": {},
        "outputId": "f92b8e47-9c2b-4fc8-f6aa-10061cc2ac70"
      },
      "source": [
        "#First import PyTorch\n",
        "#!pip install torch"
      ],
      "execution_count": 0,
      "outputs": [
        {
          "output_type": "stream",
          "text": [
            "Requirement already satisfied: torch in /Users/joycechidiadi/anaconda3/lib/python3.6/site-packages (1.1.0)\n",
            "Requirement already satisfied: numpy in /Users/joycechidiadi/anaconda3/lib/python3.6/site-packages (from torch) (1.14.3)\n",
            "\u001b[33mYou are using pip version 10.0.1, however version 19.1.1 is available.\n",
            "You should consider upgrading via the 'pip install --upgrade pip' command.\u001b[0m\n"
          ],
          "name": "stdout"
        }
      ]
    },
    {
      "cell_type": "code",
      "metadata": {
        "scrolled": true,
        "id": "l8QbU8yMTCos",
        "colab_type": "code",
        "colab": {}
      },
      "source": [
        "import torch"
      ],
      "execution_count": 0,
      "outputs": []
    },
    {
      "cell_type": "code",
      "metadata": {
        "id": "mfVQNFqiTCov",
        "colab_type": "code",
        "colab": {}
      },
      "source": [
        "def activation(x):\n",
        "    \"\"\"Sigmoid activation function\n",
        "    \n",
        "    Arguments\n",
        "    ----------\n",
        "    x: torch.Tensor\n",
        "    \n",
        "    \"\"\"\n",
        "    \n",
        "    return 1/(1+torch.exp(-x))"
      ],
      "execution_count": 0,
      "outputs": []
    },
    {
      "cell_type": "code",
      "metadata": {
        "id": "NYHtCD4kTCoy",
        "colab_type": "code",
        "colab": {},
        "outputId": "ea8cd3bc-072e-4594-bd40-19fb4e1a3e7c"
      },
      "source": [
        "#Generate some data \n",
        "torch.manual_seed(7) #Set the random seed so things are predictable\n",
        "\n",
        "#Features are 5 random normal variabes\n",
        "features = torch.randn((1, 5))\n",
        "#True weights for our data, random normal variables again\n",
        "weights = torch.randn_like(features)\n",
        "\n",
        "#and a true bias term\n",
        "bias = torch.randn((1, 1))\n",
        "weights.reshape(5, 1)\n",
        "weights.view(5, 1)"
      ],
      "execution_count": 0,
      "outputs": [
        {
          "output_type": "execute_result",
          "data": {
            "text/plain": [
              "tensor([[-0.8948],\n",
              "        [-0.3556],\n",
              "        [ 1.2324],\n",
              "        [ 0.1382],\n",
              "        [-1.6822]])"
            ]
          },
          "metadata": {
            "tags": []
          },
          "execution_count": 30
        }
      ]
    },
    {
      "cell_type": "code",
      "metadata": {
        "id": "UoWNCWkfTCo1",
        "colab_type": "code",
        "colab": {},
        "outputId": "aaaf91fe-664c-4070-8a8a-81972a4ed54e"
      },
      "source": [
        "#Calculate the output of this single layer network using torch.sum()\n",
        "y = activation(torch.sum(features * weights) + bias)\n",
        "print(y)\n",
        "\n",
        "y = activation((features * weights).sum() + bias)"
      ],
      "execution_count": 0,
      "outputs": [
        {
          "output_type": "stream",
          "text": [
            "tensor([[0.1595]])\n"
          ],
          "name": "stdout"
        }
      ]
    },
    {
      "cell_type": "code",
      "metadata": {
        "id": "z3Px64dHTCo4",
        "colab_type": "code",
        "colab": {},
        "outputId": "93333222-ba79-4246-c859-4cdc3d6aa723"
      },
      "source": [
        "#Calculate the output of this single layer network using matrix multiplication \n",
        "#The matrix multiplication is more efficient than the torch.sum\n",
        "\n",
        "y = activation(torch.mm(features, weights.view(5, 1)) + bias)\n",
        "print(y)"
      ],
      "execution_count": 0,
      "outputs": [
        {
          "output_type": "stream",
          "text": [
            "tensor([[0.1595]])\n"
          ],
          "name": "stdout"
        }
      ]
    },
    {
      "cell_type": "code",
      "metadata": {
        "id": "a4K_pLzhTCo7",
        "colab_type": "code",
        "colab": {}
      },
      "source": [
        ""
      ],
      "execution_count": 0,
      "outputs": []
    },
    {
      "cell_type": "code",
      "metadata": {
        "id": "xWr5wa2YTCo9",
        "colab_type": "code",
        "colab": {}
      },
      "source": [
        ""
      ],
      "execution_count": 0,
      "outputs": []
    },
    {
      "cell_type": "code",
      "metadata": {
        "id": "PqEe5gYNTCo_",
        "colab_type": "code",
        "colab": {}
      },
      "source": [
        ""
      ],
      "execution_count": 0,
      "outputs": []
    },
    {
      "cell_type": "code",
      "metadata": {
        "id": "eCMcj1gRTCpD",
        "colab_type": "code",
        "colab": {}
      },
      "source": [
        ""
      ],
      "execution_count": 0,
      "outputs": []
    },
    {
      "cell_type": "code",
      "metadata": {
        "id": "uB_wEFVZTCpG",
        "colab_type": "code",
        "colab": {}
      },
      "source": [
        ""
      ],
      "execution_count": 0,
      "outputs": []
    },
    {
      "cell_type": "code",
      "metadata": {
        "id": "fdo9JchATCpI",
        "colab_type": "code",
        "colab": {}
      },
      "source": [
        ""
      ],
      "execution_count": 0,
      "outputs": []
    },
    {
      "cell_type": "code",
      "metadata": {
        "id": "h63L_TT2TCpK",
        "colab_type": "code",
        "colab": {}
      },
      "source": [
        ""
      ],
      "execution_count": 0,
      "outputs": []
    },
    {
      "cell_type": "code",
      "metadata": {
        "id": "8kC2O9yCTCpM",
        "colab_type": "code",
        "colab": {}
      },
      "source": [
        ""
      ],
      "execution_count": 0,
      "outputs": []
    }
  ]
}